{
 "cells": [
  {
   "cell_type": "code",
   "execution_count": 448,
   "id": "502b1a00",
   "metadata": {},
   "outputs": [],
   "source": [
    "import pandas as pd\n",
    "import numpy as np\n",
    "import seaborn as sns\n",
    "import matplotlib.pyplot as plt"
   ]
  },
  {
   "attachments": {},
   "cell_type": "markdown",
   "id": "81a0e604",
   "metadata": {},
   "source": [
    "# 1. Loading Dataset"
   ]
  },
  {
   "cell_type": "code",
   "execution_count": 449,
   "id": "127c838d",
   "metadata": {},
   "outputs": [
    {
     "data": {
      "text/html": [
       "<div>\n",
       "<style scoped>\n",
       "    .dataframe tbody tr th:only-of-type {\n",
       "        vertical-align: middle;\n",
       "    }\n",
       "\n",
       "    .dataframe tbody tr th {\n",
       "        vertical-align: top;\n",
       "    }\n",
       "\n",
       "    .dataframe thead th {\n",
       "        text-align: right;\n",
       "    }\n",
       "</style>\n",
       "<table border=\"1\" class=\"dataframe\">\n",
       "  <thead>\n",
       "    <tr style=\"text-align: right;\">\n",
       "      <th></th>\n",
       "      <th>time</th>\n",
       "      <th>trt</th>\n",
       "      <th>age</th>\n",
       "      <th>wtkg</th>\n",
       "      <th>hemo</th>\n",
       "      <th>homo</th>\n",
       "      <th>drugs</th>\n",
       "      <th>karnof</th>\n",
       "      <th>oprior</th>\n",
       "      <th>z30</th>\n",
       "      <th>...</th>\n",
       "      <th>str2</th>\n",
       "      <th>strat</th>\n",
       "      <th>symptom</th>\n",
       "      <th>treat</th>\n",
       "      <th>offtrt</th>\n",
       "      <th>cd40</th>\n",
       "      <th>cd420</th>\n",
       "      <th>cd80</th>\n",
       "      <th>cd820</th>\n",
       "      <th>infected</th>\n",
       "    </tr>\n",
       "  </thead>\n",
       "  <tbody>\n",
       "    <tr>\n",
       "      <th>0</th>\n",
       "      <td>948</td>\n",
       "      <td>2</td>\n",
       "      <td>48</td>\n",
       "      <td>89.8128</td>\n",
       "      <td>0</td>\n",
       "      <td>0</td>\n",
       "      <td>0</td>\n",
       "      <td>100</td>\n",
       "      <td>0</td>\n",
       "      <td>0</td>\n",
       "      <td>...</td>\n",
       "      <td>0</td>\n",
       "      <td>1</td>\n",
       "      <td>0</td>\n",
       "      <td>1</td>\n",
       "      <td>0</td>\n",
       "      <td>422</td>\n",
       "      <td>477</td>\n",
       "      <td>566</td>\n",
       "      <td>324</td>\n",
       "      <td>0</td>\n",
       "    </tr>\n",
       "    <tr>\n",
       "      <th>1</th>\n",
       "      <td>1002</td>\n",
       "      <td>3</td>\n",
       "      <td>61</td>\n",
       "      <td>49.4424</td>\n",
       "      <td>0</td>\n",
       "      <td>0</td>\n",
       "      <td>0</td>\n",
       "      <td>90</td>\n",
       "      <td>0</td>\n",
       "      <td>1</td>\n",
       "      <td>...</td>\n",
       "      <td>1</td>\n",
       "      <td>3</td>\n",
       "      <td>0</td>\n",
       "      <td>1</td>\n",
       "      <td>0</td>\n",
       "      <td>162</td>\n",
       "      <td>218</td>\n",
       "      <td>392</td>\n",
       "      <td>564</td>\n",
       "      <td>1</td>\n",
       "    </tr>\n",
       "    <tr>\n",
       "      <th>2</th>\n",
       "      <td>961</td>\n",
       "      <td>3</td>\n",
       "      <td>45</td>\n",
       "      <td>88.4520</td>\n",
       "      <td>0</td>\n",
       "      <td>1</td>\n",
       "      <td>1</td>\n",
       "      <td>90</td>\n",
       "      <td>0</td>\n",
       "      <td>1</td>\n",
       "      <td>...</td>\n",
       "      <td>1</td>\n",
       "      <td>3</td>\n",
       "      <td>0</td>\n",
       "      <td>1</td>\n",
       "      <td>1</td>\n",
       "      <td>326</td>\n",
       "      <td>274</td>\n",
       "      <td>2063</td>\n",
       "      <td>1893</td>\n",
       "      <td>0</td>\n",
       "    </tr>\n",
       "    <tr>\n",
       "      <th>3</th>\n",
       "      <td>1166</td>\n",
       "      <td>3</td>\n",
       "      <td>47</td>\n",
       "      <td>85.2768</td>\n",
       "      <td>0</td>\n",
       "      <td>1</td>\n",
       "      <td>0</td>\n",
       "      <td>100</td>\n",
       "      <td>0</td>\n",
       "      <td>1</td>\n",
       "      <td>...</td>\n",
       "      <td>1</td>\n",
       "      <td>3</td>\n",
       "      <td>0</td>\n",
       "      <td>1</td>\n",
       "      <td>0</td>\n",
       "      <td>287</td>\n",
       "      <td>394</td>\n",
       "      <td>1590</td>\n",
       "      <td>966</td>\n",
       "      <td>0</td>\n",
       "    </tr>\n",
       "    <tr>\n",
       "      <th>4</th>\n",
       "      <td>1090</td>\n",
       "      <td>0</td>\n",
       "      <td>43</td>\n",
       "      <td>66.6792</td>\n",
       "      <td>0</td>\n",
       "      <td>1</td>\n",
       "      <td>0</td>\n",
       "      <td>100</td>\n",
       "      <td>0</td>\n",
       "      <td>1</td>\n",
       "      <td>...</td>\n",
       "      <td>1</td>\n",
       "      <td>3</td>\n",
       "      <td>0</td>\n",
       "      <td>0</td>\n",
       "      <td>0</td>\n",
       "      <td>504</td>\n",
       "      <td>353</td>\n",
       "      <td>870</td>\n",
       "      <td>782</td>\n",
       "      <td>0</td>\n",
       "    </tr>\n",
       "  </tbody>\n",
       "</table>\n",
       "<p>5 rows × 23 columns</p>\n",
       "</div>"
      ],
      "text/plain": [
       "   time  trt  age     wtkg  hemo  homo  drugs  karnof  oprior  z30  ...  str2  \\\n",
       "0   948    2   48  89.8128     0     0      0     100       0    0  ...     0   \n",
       "1  1002    3   61  49.4424     0     0      0      90       0    1  ...     1   \n",
       "2   961    3   45  88.4520     0     1      1      90       0    1  ...     1   \n",
       "3  1166    3   47  85.2768     0     1      0     100       0    1  ...     1   \n",
       "4  1090    0   43  66.6792     0     1      0     100       0    1  ...     1   \n",
       "\n",
       "   strat  symptom  treat  offtrt  cd40  cd420  cd80  cd820  infected  \n",
       "0      1        0      1       0   422    477   566    324         0  \n",
       "1      3        0      1       0   162    218   392    564         1  \n",
       "2      3        0      1       1   326    274  2063   1893         0  \n",
       "3      3        0      1       0   287    394  1590    966         0  \n",
       "4      3        0      0       0   504    353   870    782         0  \n",
       "\n",
       "[5 rows x 23 columns]"
      ]
     },
     "execution_count": 449,
     "metadata": {},
     "output_type": "execute_result"
    }
   ],
   "source": [
    "df = pd.read_csv('AIDS_Classification.csv')\n",
    "df.head()"
   ]
  },
  {
   "cell_type": "code",
   "execution_count": 450,
   "id": "35855d62",
   "metadata": {},
   "outputs": [
    {
     "data": {
      "text/plain": [
       "(2139, 23)"
      ]
     },
     "execution_count": 450,
     "metadata": {},
     "output_type": "execute_result"
    }
   ],
   "source": [
    "df.shape"
   ]
  },
  {
   "cell_type": "code",
   "execution_count": 451,
   "id": "bf40f413",
   "metadata": {},
   "outputs": [
    {
     "name": "stdout",
     "output_type": "stream",
     "text": [
      "<class 'pandas.core.frame.DataFrame'>\n",
      "RangeIndex: 2139 entries, 0 to 2138\n",
      "Data columns (total 23 columns):\n",
      " #   Column    Non-Null Count  Dtype  \n",
      "---  ------    --------------  -----  \n",
      " 0   time      2139 non-null   int64  \n",
      " 1   trt       2139 non-null   int64  \n",
      " 2   age       2139 non-null   int64  \n",
      " 3   wtkg      2139 non-null   float64\n",
      " 4   hemo      2139 non-null   int64  \n",
      " 5   homo      2139 non-null   int64  \n",
      " 6   drugs     2139 non-null   int64  \n",
      " 7   karnof    2139 non-null   int64  \n",
      " 8   oprior    2139 non-null   int64  \n",
      " 9   z30       2139 non-null   int64  \n",
      " 10  preanti   2139 non-null   int64  \n",
      " 11  race      2139 non-null   int64  \n",
      " 12  gender    2139 non-null   int64  \n",
      " 13  str2      2139 non-null   int64  \n",
      " 14  strat     2139 non-null   int64  \n",
      " 15  symptom   2139 non-null   int64  \n",
      " 16  treat     2139 non-null   int64  \n",
      " 17  offtrt    2139 non-null   int64  \n",
      " 18  cd40      2139 non-null   int64  \n",
      " 19  cd420     2139 non-null   int64  \n",
      " 20  cd80      2139 non-null   int64  \n",
      " 21  cd820     2139 non-null   int64  \n",
      " 22  infected  2139 non-null   int64  \n",
      "dtypes: float64(1), int64(22)\n",
      "memory usage: 384.5 KB\n"
     ]
    },
    {
     "data": {
      "text/plain": [
       "time        0\n",
       "trt         0\n",
       "age         0\n",
       "wtkg        0\n",
       "hemo        0\n",
       "homo        0\n",
       "drugs       0\n",
       "karnof      0\n",
       "oprior      0\n",
       "z30         0\n",
       "preanti     0\n",
       "race        0\n",
       "gender      0\n",
       "str2        0\n",
       "strat       0\n",
       "symptom     0\n",
       "treat       0\n",
       "offtrt      0\n",
       "cd40        0\n",
       "cd420       0\n",
       "cd80        0\n",
       "cd820       0\n",
       "infected    0\n",
       "dtype: int64"
      ]
     },
     "execution_count": 451,
     "metadata": {},
     "output_type": "execute_result"
    }
   ],
   "source": [
    "df.info()\n",
    "df.isnull().sum()"
   ]
  },
  {
   "attachments": {},
   "cell_type": "markdown",
   "id": "1e3cd665",
   "metadata": {},
   "source": [
    "# 2. Exploring Data"
   ]
  },
  {
   "attachments": {},
   "cell_type": "markdown",
   "id": "f212a835",
   "metadata": {},
   "source": [
    "## 2.1. Target"
   ]
  },
  {
   "cell_type": "code",
   "execution_count": 452,
   "id": "eac2bdad",
   "metadata": {},
   "outputs": [
    {
     "data": {
      "text/plain": [
       "array([100,  90,  80,  70], dtype=int64)"
      ]
     },
     "execution_count": 452,
     "metadata": {},
     "output_type": "execute_result"
    }
   ],
   "source": [
    "df['karnof'].unique()"
   ]
  },
  {
   "cell_type": "code",
   "execution_count": 453,
   "id": "76f70d32",
   "metadata": {},
   "outputs": [
    {
     "data": {
      "image/png": "[encoded data removed]",
      "text/plain": [
       "<Figure size 300x400 with 1 Axes>"
      ]
     },
     "metadata": {},
     "output_type": "display_data"
    }
   ],
   "source": [
    "plt.figure(figsize=(3,4))\n",
    "df['infected'].value_counts().plot(kind='bar', rot=0, color='#2DB2C4')\n",
    "plt.title('Infected')\n",
    "plt.show()"
   ]
  },
  {
   "attachments": {},
   "cell_type": "markdown",
   "id": "f75523e7",
   "metadata": {},
   "source": [
    "## 2.2. Predictors"
   ]
  },
  {
   "attachments": {},
   "cell_type": "markdown",
   "id": "773f67ce",
   "metadata": {},
   "source": [
    "### 2.2.1. Numerical features"
   ]
  },
  {
   "cell_type": "code",
   "execution_count": 454,
   "id": "634a4f28",
   "metadata": {},
   "outputs": [
    {
     "data": {
      "text/html": [
       "<div>\n",
       "<style scoped>\n",
       "    .dataframe tbody tr th:only-of-type {\n",
       "        vertical-align: middle;\n",
       "    }\n",
       "\n",
       "    .dataframe tbody tr th {\n",
       "        vertical-align: top;\n",
       "    }\n",
       "\n",
       "    .dataframe thead th {\n",
       "        text-align: right;\n",
       "    }\n",
       "</style>\n",
       "<table border=\"1\" class=\"dataframe\">\n",
       "  <thead>\n",
       "    <tr style=\"text-align: right;\">\n",
       "      <th></th>\n",
       "      <th>time</th>\n",
       "      <th>age</th>\n",
       "      <th>wtkg</th>\n",
       "      <th>preanti</th>\n",
       "      <th>cd40</th>\n",
       "      <th>cd420</th>\n",
       "      <th>cd80</th>\n",
       "      <th>cd820</th>\n",
       "    </tr>\n",
       "  </thead>\n",
       "  <tbody>\n",
       "    <tr>\n",
       "      <th>count</th>\n",
       "      <td>2139.000000</td>\n",
       "      <td>2139.000000</td>\n",
       "      <td>2139.000000</td>\n",
       "      <td>2139.000000</td>\n",
       "      <td>2139.000000</td>\n",
       "      <td>2139.000000</td>\n",
       "      <td>2139.000000</td>\n",
       "      <td>2139.000000</td>\n",
       "    </tr>\n",
       "    <tr>\n",
       "      <th>mean</th>\n",
       "      <td>879.098177</td>\n",
       "      <td>35.248247</td>\n",
       "      <td>75.125311</td>\n",
       "      <td>379.175783</td>\n",
       "      <td>350.501169</td>\n",
       "      <td>371.307153</td>\n",
       "      <td>986.627396</td>\n",
       "      <td>935.369799</td>\n",
       "    </tr>\n",
       "    <tr>\n",
       "      <th>std</th>\n",
       "      <td>292.274324</td>\n",
       "      <td>8.709026</td>\n",
       "      <td>13.263164</td>\n",
       "      <td>468.657526</td>\n",
       "      <td>118.573863</td>\n",
       "      <td>144.634909</td>\n",
       "      <td>480.197750</td>\n",
       "      <td>444.976051</td>\n",
       "    </tr>\n",
       "    <tr>\n",
       "      <th>min</th>\n",
       "      <td>14.000000</td>\n",
       "      <td>12.000000</td>\n",
       "      <td>31.000000</td>\n",
       "      <td>0.000000</td>\n",
       "      <td>0.000000</td>\n",
       "      <td>49.000000</td>\n",
       "      <td>40.000000</td>\n",
       "      <td>124.000000</td>\n",
       "    </tr>\n",
       "    <tr>\n",
       "      <th>25%</th>\n",
       "      <td>727.000000</td>\n",
       "      <td>29.000000</td>\n",
       "      <td>66.679200</td>\n",
       "      <td>0.000000</td>\n",
       "      <td>263.500000</td>\n",
       "      <td>269.000000</td>\n",
       "      <td>654.000000</td>\n",
       "      <td>631.500000</td>\n",
       "    </tr>\n",
       "    <tr>\n",
       "      <th>50%</th>\n",
       "      <td>997.000000</td>\n",
       "      <td>34.000000</td>\n",
       "      <td>74.390400</td>\n",
       "      <td>142.000000</td>\n",
       "      <td>340.000000</td>\n",
       "      <td>353.000000</td>\n",
       "      <td>893.000000</td>\n",
       "      <td>865.000000</td>\n",
       "    </tr>\n",
       "    <tr>\n",
       "      <th>75%</th>\n",
       "      <td>1091.000000</td>\n",
       "      <td>40.000000</td>\n",
       "      <td>82.555200</td>\n",
       "      <td>739.500000</td>\n",
       "      <td>423.000000</td>\n",
       "      <td>460.000000</td>\n",
       "      <td>1207.000000</td>\n",
       "      <td>1146.500000</td>\n",
       "    </tr>\n",
       "    <tr>\n",
       "      <th>max</th>\n",
       "      <td>1231.000000</td>\n",
       "      <td>70.000000</td>\n",
       "      <td>159.939360</td>\n",
       "      <td>2851.000000</td>\n",
       "      <td>1199.000000</td>\n",
       "      <td>1119.000000</td>\n",
       "      <td>5011.000000</td>\n",
       "      <td>6035.000000</td>\n",
       "    </tr>\n",
       "  </tbody>\n",
       "</table>\n",
       "</div>"
      ],
      "text/plain": [
       "              time          age         wtkg      preanti         cd40  \\\n",
       "count  2139.000000  2139.000000  2139.000000  2139.000000  2139.000000   \n",
       "mean    879.098177    35.248247    75.125311   379.175783   350.501169   \n",
       "std     292.274324     8.709026    13.263164   468.657526   118.573863   \n",
       "min      14.000000    12.000000    31.000000     0.000000     0.000000   \n",
       "25%     727.000000    29.000000    66.679200     0.000000   263.500000   \n",
       "50%     997.000000    34.000000    74.390400   142.000000   340.000000   \n",
       "75%    1091.000000    40.000000    82.555200   739.500000   423.000000   \n",
       "max    1231.000000    70.000000   159.939360  2851.000000  1199.000000   \n",
       "\n",
       "             cd420         cd80        cd820  \n",
       "count  2139.000000  2139.000000  2139.000000  \n",
       "mean    371.307153   986.627396   935.369799  \n",
       "std     144.634909   480.197750   444.976051  \n",
       "min      49.000000    40.000000   124.000000  \n",
       "25%     269.000000   654.000000   631.500000  \n",
       "50%     353.000000   893.000000   865.000000  \n",
       "75%     460.000000  1207.000000  1146.500000  \n",
       "max    1119.000000  5011.000000  6035.000000  "
      ]
     },
     "execution_count": 454,
     "metadata": {},
     "output_type": "execute_result"
    }
   ],
   "source": [
    "num_cols = ['time', 'age', 'wtkg', 'preanti', \n",
    "           'cd40', 'cd420', 'cd80', 'cd820']\n",
    "df[num_cols].describe()"
   ]
  },
  {
   "cell_type": "code",
   "execution_count": 455,
   "id": "e8b456cd",
   "metadata": {},
   "outputs": [
    {
     "data": {
      "image/png": "[encoded data removed]",
      "text/plain": [
       "<Figure size 1600x400 with 8 Axes>"
      ]
     },
     "metadata": {},
     "output_type": "display_data"
    }
   ],
   "source": [
    "num_plots = len(num_cols)\n",
    "cols_per_row = 4\n",
    "rows = (num_plots - 1) // cols_per_row + 1\n",
    "\n",
    "fig, axes = plt.subplots(nrows=rows, ncols=cols_per_row, figsize=(16, 4))\n",
    "axes = axes.flatten()\n",
    "sns.set_style(\"white\")\n",
    "\n",
    "for i, column in enumerate(num_cols):\n",
    "    ax = axes[i]\n",
    "    sns.boxplot(data=df, x=column, ax=ax, linewidth=0.5,\n",
    "                color='#2DB2C4', width=0.5)\n",
    "    ax.set_xlabel('')\n",
    "    ax.set_ylabel('')\n",
    "    ax.set_title(column)\n",
    "\n",
    "for i in range(num_plots, len(axes)):\n",
    "    fig.delaxes(axes[i])\n",
    "    \n",
    "plt.tight_layout()\n",
    "plt.show()"
   ]
  },
  {
   "cell_type": "code",
   "execution_count": 456,
   "id": "235b2e46",
   "metadata": {},
   "outputs": [
    {
     "data": {
      "image/png": "[encoded data removed]",
      "text/plain": [
       "<Figure size 1600x800 with 8 Axes>"
      ]
     },
     "metadata": {},
     "output_type": "display_data"
    }
   ],
   "source": [
    "num_plots = len(num_cols)\n",
    "cols_per_row = 4\n",
    "rows = (num_plots - 1) // cols_per_row + 1\n",
    "\n",
    "fig, axes = plt.subplots(nrows=rows, ncols=cols_per_row, figsize=(16, 8))\n",
    "axes = axes.flatten()\n",
    "sns.set_style(\"white\")\n",
    "\n",
    "for i, column in enumerate(num_cols):\n",
    "    ax = axes[i]\n",
    "    sns.histplot(data=df, x=column, ax=ax, hue='infected',\n",
    "                 palette=['#2DB2C4','#C42D2D'],\n",
    "                 bins=50, multiple='stack')\n",
    "    ax.set_xlabel('')\n",
    "    ax.set_ylabel('')\n",
    "    ax.set_title(column)\n",
    "\n",
    "for i in range(num_plots, len(axes)):\n",
    "    fig.delaxes(axes[i])\n",
    "    \n",
    "plt.tight_layout()\n",
    "plt.show()"
   ]
  },
  {
   "attachments": {},
   "cell_type": "markdown",
   "id": "db9f222d",
   "metadata": {},
   "source": [
    "### 2.2.2. Categorical features"
   ]
  },
  {
   "attachments": {},
   "cell_type": "markdown",
   "id": "b5fee949",
   "metadata": {},
   "source": [
    "#### a. Personal information"
   ]
  },
  {
   "cell_type": "code",
   "execution_count": 457,
   "id": "69ecd6a7",
   "metadata": {},
   "outputs": [
    {
     "data": {
      "image/png": "[encoded data removed]",
      "text/plain": [
       "<Figure size 1600x400 with 5 Axes>"
      ]
     },
     "metadata": {},
     "output_type": "display_data"
    }
   ],
   "source": [
    "info_cols = ['hemo', 'homo', 'drugs', 'race', 'gender']\n",
    "info_plots = len(info_cols)\n",
    "cols_per_row = 5\n",
    "rows = (info_plots - 1) // cols_per_row + 1\n",
    "\n",
    "fig, axes = plt.subplots(nrows=rows, ncols=cols_per_row, figsize=(16, 4))\n",
    "axes = axes.flatten()\n",
    "sns.set_style(\"white\")\n",
    "\n",
    "for i, column in enumerate(info_cols):\n",
    "    ax = axes[i]\n",
    "    contingency_tab = pd.crosstab(df[column], df['infected']).reset_index()\n",
    "    melted_df = pd.melt(contingency_tab, id_vars=[column],\n",
    "                        var_name='infected', value_name='Value')\n",
    "    sns.barplot(data=melted_df, x=column, y='Value', ax=ax,\n",
    "                hue='infected', palette=['#2DB2C4','#C42D2D'])\n",
    "    ax.set_xlabel('')\n",
    "    ax.set_ylabel('')\n",
    "    ax.set_title(column)\n",
    "\n",
    "# Remove empty subplots if the number of plots doesn't fill the entire grid\n",
    "for i in range(info_plots, len(axes)):\n",
    "    fig.delaxes(axes[i])\n",
    "\n",
    "# Adjust layout\n",
    "plt.tight_layout()\n",
    "plt.show()"
   ]
  },
  {
   "attachments": {},
   "cell_type": "markdown",
   "id": "92c4248f",
   "metadata": {},
   "source": [
    "#### b. Lab results"
   ]
  },
  {
   "cell_type": "code",
   "execution_count": 458,
   "id": "1815a7b0",
   "metadata": {},
   "outputs": [
    {
     "data": {
      "image/png": "[encoded data removed]",
      "text/plain": [
       "<Figure size 1200x800 with 6 Axes>"
      ]
     },
     "metadata": {},
     "output_type": "display_data"
    }
   ],
   "source": [
    "lab_cols = ['oprior', 'z30', 'str2', 'strat', 'symptom', 'karnof']\n",
    "lab_plots = len(lab_cols)\n",
    "cols_per_row = 3 \n",
    "rows = (lab_plots - 1) // cols_per_row + 1\n",
    "\n",
    "fig, axes = plt.subplots(nrows=rows, ncols=cols_per_row, figsize=(12, 8))\n",
    "axes = axes.flatten()\n",
    "sns.set_style(\"white\")\n",
    "\n",
    "for i, column in enumerate(lab_cols):\n",
    "    ax = axes[i]\n",
    "    contingency_tab = pd.crosstab(df[column], df['infected']).reset_index()\n",
    "    melted_df = pd.melt(contingency_tab, id_vars=[column],\n",
    "                        var_name='infected', value_name='Value')\n",
    "    sns.barplot(data=melted_df, x=column, y='Value', ax=ax,\n",
    "                hue='infected', palette=['#2DB2C4','#C42D2D'])\n",
    "    ax.set_xlabel('')\n",
    "    ax.set_ylabel('')\n",
    "    ax.set_title(column)\n",
    "\n",
    "# Remove empty subplots if the number of plots doesn't fill the entire grid\n",
    "for i in range(lab_plots, len(axes)):\n",
    "    fig.delaxes(axes[i])\n",
    "\n",
    "# Adjust layout\n",
    "plt.tight_layout()\n",
    "plt.show()"
   ]
  },
  {
   "attachments": {},
   "cell_type": "markdown",
   "id": "5db83821",
   "metadata": {},
   "source": [
    "#### c. Treatment"
   ]
  },
  {
   "cell_type": "code",
   "execution_count": 459,
   "id": "3a6d2e7e",
   "metadata": {},
   "outputs": [
    {
     "data": {
      "image/png": "[encoded data removed]",
      "text/plain": [
       "<Figure size 1200x400 with 3 Axes>"
      ]
     },
     "metadata": {},
     "output_type": "display_data"
    }
   ],
   "source": [
    "treat_cols = ['trt', 'treat', 'offtrt']\n",
    "treat_plots = len(treat_cols)\n",
    "cols_per_row = 3  # Adjust as per your preference\n",
    "rows = (treat_plots - 1) // cols_per_row + 1\n",
    "\n",
    "fig, axes = plt.subplots(nrows=rows, ncols=cols_per_row, figsize=(12, 4))\n",
    "axes = axes.flatten()\n",
    "sns.set_style(\"white\")\n",
    "\n",
    "for i, column in enumerate(treat_cols):\n",
    "    ax = axes[i]\n",
    "    contingency_tab = pd.crosstab(df[column], df['infected']).reset_index()\n",
    "    melted_df = pd.melt(contingency_tab, id_vars=[column],\n",
    "                        var_name='infected', value_name='Value')\n",
    "    sns.barplot(data=melted_df, x=column, y='Value', ax=ax,\n",
    "                hue='infected', palette=['#2DB2C4','#C42D2D'])\n",
    "    ax.set_xlabel('')\n",
    "    ax.set_ylabel('')\n",
    "    ax.set_title(column)\n",
    "\n",
    "# Remove empty subplots if the number of plots doesn't fill the entire grid\n",
    "for i in range(treat_plots, len(axes)):\n",
    "    fig.delaxes(axes[i])\n",
    "\n",
    "# Adjust layout\n",
    "plt.tight_layout()\n",
    "plt.show()"
   ]
  },
  {
   "attachments": {},
   "cell_type": "markdown",
   "id": "ef88ff0e",
   "metadata": {},
   "source": [
    "## 2.3. Correlation matrix between numercial variables"
   ]
  },
  {
   "cell_type": "code",
   "execution_count": 460,
   "id": "ecfdcbd5",
   "metadata": {},
   "outputs": [
    {
     "data": {
      "image/png": "[encoded data removed]",
      "text/plain": [
       "<Figure size 800x800 with 1 Axes>"
      ]
     },
     "metadata": {},
     "output_type": "display_data"
    }
   ],
   "source": [
    "plt.figure(figsize=(8,8))\n",
    "sns.heatmap(data=df[num_cols].corr(), vmin=-1, vmax=1,\n",
    "            cmap=\"Reds\", annot=True, cbar=False, fmt=\".2f\",\n",
    "            linewidths=0.1)\n",
    "plt.title('Correlation matrix')\n",
    "plt.show()"
   ]
  },
  {
   "attachments": {},
   "cell_type": "markdown",
   "id": "639b5eb5",
   "metadata": {},
   "source": [
    "# 3. Splitting Data"
   ]
  },
  {
   "cell_type": "code",
   "execution_count": 461,
   "id": "1895d6f0",
   "metadata": {},
   "outputs": [
    {
     "data": {
      "text/plain": [
       "((1711, 22), (428, 22), (1711,), (428,))"
      ]
     },
     "execution_count": 461,
     "metadata": {},
     "output_type": "execute_result"
    }
   ],
   "source": [
    "from sklearn.model_selection import train_test_split\n",
    "X = df.drop('infected', axis=1)\n",
    "y = df['infected'].copy()\n",
    "\n",
    "x_train, x_test, y_train, y_test = train_test_split(X, y, test_size=0.2,\n",
    "                                                    random_state=11,\n",
    "                                                    stratify=df['infected'])\n",
    "\n",
    "x_train.shape, x_test.shape, y_train.shape, y_test.shape"
   ]
  },
  {
   "attachments": {},
   "cell_type": "markdown",
   "id": "4718e08d",
   "metadata": {},
   "source": [
    "# 4. Feature Enginerring"
   ]
  },
  {
   "attachments": {},
   "cell_type": "markdown",
   "id": "47fb862a",
   "metadata": {},
   "source": [
    "## 4.1. Creating Dummies"
   ]
  },
  {
   "cell_type": "code",
   "execution_count": 462,
   "id": "c24290cc",
   "metadata": {},
   "outputs": [],
   "source": [
    "from sklearn.preprocessing import OneHotEncoder\n",
    "\n",
    "encoder = OneHotEncoder(drop='first')\n",
    "\n",
    "encoded_cols = ['trt', 'karnof', 'strat']\n",
    "\n",
    "encoded_x_train = pd.DataFrame(encoder.fit_transform(x_train[encoded_cols]).toarray(),\n",
    "                               columns=encoder.get_feature_names_out())\n",
    "\n",
    "encoded_x_test = pd.DataFrame(encoder.fit_transform(x_test[encoded_cols]).toarray(),\n",
    "                              columns=encoder.get_feature_names_out())"
   ]
  },
  {
   "attachments": {},
   "cell_type": "markdown",
   "id": "5f3821f3",
   "metadata": {},
   "source": [
    "## 4.2. Scaling"
   ]
  },
  {
   "cell_type": "code",
   "execution_count": 463,
   "id": "9f0c5b6f",
   "metadata": {},
   "outputs": [],
   "source": [
    "from sklearn.preprocessing import MinMaxScaler\n",
    "\n",
    "scaler = MinMaxScaler()\n",
    "\n",
    "scaled_cols = x_train.drop(encoded_cols, axis=1).columns\n",
    "\n",
    "scaled_x_train = pd.DataFrame(scaler.fit_transform(x_train[scaled_cols]),\n",
    "                              columns=scaler.get_feature_names_out())\n",
    "\n",
    "scaled_x_test = pd.DataFrame(scaler.fit_transform(x_test[scaled_cols]),\n",
    "                             columns=scaler.get_feature_names_out())"
   ]
  },
  {
   "cell_type": "code",
   "execution_count": 464,
   "id": "d59e3524",
   "metadata": {},
   "outputs": [
    {
     "data": {
      "text/plain": [
       "((1711, 27), (428, 27))"
      ]
     },
     "execution_count": 464,
     "metadata": {},
     "output_type": "execute_result"
    }
   ],
   "source": [
    "prepared_x_train = pd.concat([encoded_x_train, scaled_x_train], axis=1)\n",
    "prepared_x_test = pd.concat([encoded_x_test, scaled_x_test], axis=1)\n",
    "\n",
    "prepared_x_train.shape, prepared_x_test.shape"
   ]
  },
  {
   "cell_type": "code",
   "execution_count": 465,
   "id": "5f788619",
   "metadata": {},
   "outputs": [
    {
     "data": {
      "text/html": [
       "<div>\n",
       "<style scoped>\n",
       "    .dataframe tbody tr th:only-of-type {\n",
       "        vertical-align: middle;\n",
       "    }\n",
       "\n",
       "    .dataframe tbody tr th {\n",
       "        vertical-align: top;\n",
       "    }\n",
       "\n",
       "    .dataframe thead th {\n",
       "        text-align: right;\n",
       "    }\n",
       "</style>\n",
       "<table border=\"1\" class=\"dataframe\">\n",
       "  <thead>\n",
       "    <tr style=\"text-align: right;\">\n",
       "      <th></th>\n",
       "      <th>trt_1</th>\n",
       "      <th>trt_2</th>\n",
       "      <th>trt_3</th>\n",
       "      <th>karnof_80</th>\n",
       "      <th>karnof_90</th>\n",
       "      <th>karnof_100</th>\n",
       "      <th>strat_2</th>\n",
       "      <th>strat_3</th>\n",
       "      <th>time</th>\n",
       "      <th>age</th>\n",
       "      <th>...</th>\n",
       "      <th>race</th>\n",
       "      <th>gender</th>\n",
       "      <th>str2</th>\n",
       "      <th>symptom</th>\n",
       "      <th>treat</th>\n",
       "      <th>offtrt</th>\n",
       "      <th>cd40</th>\n",
       "      <th>cd420</th>\n",
       "      <th>cd80</th>\n",
       "      <th>cd820</th>\n",
       "    </tr>\n",
       "  </thead>\n",
       "  <tbody>\n",
       "    <tr>\n",
       "      <th>0</th>\n",
       "      <td>0.0</td>\n",
       "      <td>0.0</td>\n",
       "      <td>1.0</td>\n",
       "      <td>0.0</td>\n",
       "      <td>1.0</td>\n",
       "      <td>0.0</td>\n",
       "      <td>0.0</td>\n",
       "      <td>0.0</td>\n",
       "      <td>0.957272</td>\n",
       "      <td>0.178571</td>\n",
       "      <td>...</td>\n",
       "      <td>1.0</td>\n",
       "      <td>1.0</td>\n",
       "      <td>0.0</td>\n",
       "      <td>0.0</td>\n",
       "      <td>1.0</td>\n",
       "      <td>0.0</td>\n",
       "      <td>0.646372</td>\n",
       "      <td>0.762617</td>\n",
       "      <td>0.166265</td>\n",
       "      <td>0.129356</td>\n",
       "    </tr>\n",
       "    <tr>\n",
       "      <th>1</th>\n",
       "      <td>0.0</td>\n",
       "      <td>0.0</td>\n",
       "      <td>0.0</td>\n",
       "      <td>0.0</td>\n",
       "      <td>0.0</td>\n",
       "      <td>1.0</td>\n",
       "      <td>0.0</td>\n",
       "      <td>1.0</td>\n",
       "      <td>0.456861</td>\n",
       "      <td>0.642857</td>\n",
       "      <td>...</td>\n",
       "      <td>0.0</td>\n",
       "      <td>0.0</td>\n",
       "      <td>1.0</td>\n",
       "      <td>0.0</td>\n",
       "      <td>0.0</td>\n",
       "      <td>0.0</td>\n",
       "      <td>0.103420</td>\n",
       "      <td>0.114953</td>\n",
       "      <td>0.146988</td>\n",
       "      <td>0.299825</td>\n",
       "    </tr>\n",
       "    <tr>\n",
       "      <th>2</th>\n",
       "      <td>0.0</td>\n",
       "      <td>0.0</td>\n",
       "      <td>1.0</td>\n",
       "      <td>1.0</td>\n",
       "      <td>0.0</td>\n",
       "      <td>0.0</td>\n",
       "      <td>0.0</td>\n",
       "      <td>0.0</td>\n",
       "      <td>0.866886</td>\n",
       "      <td>0.678571</td>\n",
       "      <td>...</td>\n",
       "      <td>0.0</td>\n",
       "      <td>1.0</td>\n",
       "      <td>0.0</td>\n",
       "      <td>1.0</td>\n",
       "      <td>1.0</td>\n",
       "      <td>0.0</td>\n",
       "      <td>0.326105</td>\n",
       "      <td>0.366355</td>\n",
       "      <td>0.181446</td>\n",
       "      <td>0.164202</td>\n",
       "    </tr>\n",
       "    <tr>\n",
       "      <th>3</th>\n",
       "      <td>0.0</td>\n",
       "      <td>0.0</td>\n",
       "      <td>1.0</td>\n",
       "      <td>0.0</td>\n",
       "      <td>1.0</td>\n",
       "      <td>0.0</td>\n",
       "      <td>1.0</td>\n",
       "      <td>0.0</td>\n",
       "      <td>0.380444</td>\n",
       "      <td>0.625000</td>\n",
       "      <td>...</td>\n",
       "      <td>0.0</td>\n",
       "      <td>1.0</td>\n",
       "      <td>1.0</td>\n",
       "      <td>0.0</td>\n",
       "      <td>1.0</td>\n",
       "      <td>0.0</td>\n",
       "      <td>0.191827</td>\n",
       "      <td>0.097196</td>\n",
       "      <td>0.083133</td>\n",
       "      <td>0.022562</td>\n",
       "    </tr>\n",
       "    <tr>\n",
       "      <th>4</th>\n",
       "      <td>0.0</td>\n",
       "      <td>1.0</td>\n",
       "      <td>0.0</td>\n",
       "      <td>1.0</td>\n",
       "      <td>0.0</td>\n",
       "      <td>0.0</td>\n",
       "      <td>0.0</td>\n",
       "      <td>0.0</td>\n",
       "      <td>0.442071</td>\n",
       "      <td>0.303571</td>\n",
       "      <td>...</td>\n",
       "      <td>1.0</td>\n",
       "      <td>0.0</td>\n",
       "      <td>0.0</td>\n",
       "      <td>0.0</td>\n",
       "      <td>1.0</td>\n",
       "      <td>1.0</td>\n",
       "      <td>0.267723</td>\n",
       "      <td>0.262617</td>\n",
       "      <td>0.361687</td>\n",
       "      <td>0.176987</td>\n",
       "    </tr>\n",
       "    <tr>\n",
       "      <th>...</th>\n",
       "      <td>...</td>\n",
       "      <td>...</td>\n",
       "      <td>...</td>\n",
       "      <td>...</td>\n",
       "      <td>...</td>\n",
       "      <td>...</td>\n",
       "      <td>...</td>\n",
       "      <td>...</td>\n",
       "      <td>...</td>\n",
       "      <td>...</td>\n",
       "      <td>...</td>\n",
       "      <td>...</td>\n",
       "      <td>...</td>\n",
       "      <td>...</td>\n",
       "      <td>...</td>\n",
       "      <td>...</td>\n",
       "      <td>...</td>\n",
       "      <td>...</td>\n",
       "      <td>...</td>\n",
       "      <td>...</td>\n",
       "      <td>...</td>\n",
       "    </tr>\n",
       "    <tr>\n",
       "      <th>1706</th>\n",
       "      <td>0.0</td>\n",
       "      <td>1.0</td>\n",
       "      <td>0.0</td>\n",
       "      <td>0.0</td>\n",
       "      <td>1.0</td>\n",
       "      <td>0.0</td>\n",
       "      <td>0.0</td>\n",
       "      <td>0.0</td>\n",
       "      <td>0.356615</td>\n",
       "      <td>0.803571</td>\n",
       "      <td>...</td>\n",
       "      <td>1.0</td>\n",
       "      <td>1.0</td>\n",
       "      <td>0.0</td>\n",
       "      <td>0.0</td>\n",
       "      <td>1.0</td>\n",
       "      <td>1.0</td>\n",
       "      <td>0.332777</td>\n",
       "      <td>0.261682</td>\n",
       "      <td>0.141928</td>\n",
       "      <td>0.189020</td>\n",
       "    </tr>\n",
       "    <tr>\n",
       "      <th>1707</th>\n",
       "      <td>0.0</td>\n",
       "      <td>0.0</td>\n",
       "      <td>0.0</td>\n",
       "      <td>0.0</td>\n",
       "      <td>0.0</td>\n",
       "      <td>1.0</td>\n",
       "      <td>1.0</td>\n",
       "      <td>0.0</td>\n",
       "      <td>0.588332</td>\n",
       "      <td>0.767857</td>\n",
       "      <td>...</td>\n",
       "      <td>0.0</td>\n",
       "      <td>1.0</td>\n",
       "      <td>1.0</td>\n",
       "      <td>0.0</td>\n",
       "      <td>0.0</td>\n",
       "      <td>0.0</td>\n",
       "      <td>0.260217</td>\n",
       "      <td>0.185047</td>\n",
       "      <td>0.215663</td>\n",
       "      <td>0.269491</td>\n",
       "    </tr>\n",
       "    <tr>\n",
       "      <th>1708</th>\n",
       "      <td>0.0</td>\n",
       "      <td>0.0</td>\n",
       "      <td>0.0</td>\n",
       "      <td>0.0</td>\n",
       "      <td>1.0</td>\n",
       "      <td>0.0</td>\n",
       "      <td>0.0</td>\n",
       "      <td>0.0</td>\n",
       "      <td>0.643385</td>\n",
       "      <td>0.482143</td>\n",
       "      <td>...</td>\n",
       "      <td>0.0</td>\n",
       "      <td>1.0</td>\n",
       "      <td>0.0</td>\n",
       "      <td>0.0</td>\n",
       "      <td>0.0</td>\n",
       "      <td>1.0</td>\n",
       "      <td>0.338616</td>\n",
       "      <td>0.469159</td>\n",
       "      <td>0.125060</td>\n",
       "      <td>0.217598</td>\n",
       "    </tr>\n",
       "    <tr>\n",
       "      <th>1709</th>\n",
       "      <td>0.0</td>\n",
       "      <td>0.0</td>\n",
       "      <td>0.0</td>\n",
       "      <td>0.0</td>\n",
       "      <td>0.0</td>\n",
       "      <td>1.0</td>\n",
       "      <td>0.0</td>\n",
       "      <td>1.0</td>\n",
       "      <td>0.884141</td>\n",
       "      <td>0.357143</td>\n",
       "      <td>...</td>\n",
       "      <td>0.0</td>\n",
       "      <td>1.0</td>\n",
       "      <td>1.0</td>\n",
       "      <td>0.0</td>\n",
       "      <td>0.0</td>\n",
       "      <td>0.0</td>\n",
       "      <td>0.312761</td>\n",
       "      <td>0.240187</td>\n",
       "      <td>0.110843</td>\n",
       "      <td>0.101279</td>\n",
       "    </tr>\n",
       "    <tr>\n",
       "      <th>1710</th>\n",
       "      <td>0.0</td>\n",
       "      <td>1.0</td>\n",
       "      <td>0.0</td>\n",
       "      <td>0.0</td>\n",
       "      <td>0.0</td>\n",
       "      <td>1.0</td>\n",
       "      <td>1.0</td>\n",
       "      <td>0.0</td>\n",
       "      <td>0.981923</td>\n",
       "      <td>0.517857</td>\n",
       "      <td>...</td>\n",
       "      <td>0.0</td>\n",
       "      <td>1.0</td>\n",
       "      <td>1.0</td>\n",
       "      <td>0.0</td>\n",
       "      <td>1.0</td>\n",
       "      <td>0.0</td>\n",
       "      <td>0.283570</td>\n",
       "      <td>0.230841</td>\n",
       "      <td>0.192289</td>\n",
       "      <td>0.188017</td>\n",
       "    </tr>\n",
       "  </tbody>\n",
       "</table>\n",
       "<p>1711 rows × 27 columns</p>\n",
       "</div>"
      ],
      "text/plain": [
       "      trt_1  trt_2  trt_3  karnof_80  karnof_90  karnof_100  strat_2  strat_3  \\\n",
       "0       0.0    0.0    1.0        0.0        1.0         0.0      0.0      0.0   \n",
       "1       0.0    0.0    0.0        0.0        0.0         1.0      0.0      1.0   \n",
       "2       0.0    0.0    1.0        1.0        0.0         0.0      0.0      0.0   \n",
       "3       0.0    0.0    1.0        0.0        1.0         0.0      1.0      0.0   \n",
       "4       0.0    1.0    0.0        1.0        0.0         0.0      0.0      0.0   \n",
       "...     ...    ...    ...        ...        ...         ...      ...      ...   \n",
       "1706    0.0    1.0    0.0        0.0        1.0         0.0      0.0      0.0   \n",
       "1707    0.0    0.0    0.0        0.0        0.0         1.0      1.0      0.0   \n",
       "1708    0.0    0.0    0.0        0.0        1.0         0.0      0.0      0.0   \n",
       "1709    0.0    0.0    0.0        0.0        0.0         1.0      0.0      1.0   \n",
       "1710    0.0    1.0    0.0        0.0        0.0         1.0      1.0      0.0   \n",
       "\n",
       "          time       age  ...  race  gender  str2  symptom  treat  offtrt  \\\n",
       "0     0.957272  0.178571  ...   1.0     1.0   0.0      0.0    1.0     0.0   \n",
       "1     0.456861  0.642857  ...   0.0     0.0   1.0      0.0    0.0     0.0   \n",
       "2     0.866886  0.678571  ...   0.0     1.0   0.0      1.0    1.0     0.0   \n",
       "3     0.380444  0.625000  ...   0.0     1.0   1.0      0.0    1.0     0.0   \n",
       "4     0.442071  0.303571  ...   1.0     0.0   0.0      0.0    1.0     1.0   \n",
       "...        ...       ...  ...   ...     ...   ...      ...    ...     ...   \n",
       "1706  0.356615  0.803571  ...   1.0     1.0   0.0      0.0    1.0     1.0   \n",
       "1707  0.588332  0.767857  ...   0.0     1.0   1.0      0.0    0.0     0.0   \n",
       "1708  0.643385  0.482143  ...   0.0     1.0   0.0      0.0    0.0     1.0   \n",
       "1709  0.884141  0.357143  ...   0.0     1.0   1.0      0.0    0.0     0.0   \n",
       "1710  0.981923  0.517857  ...   0.0     1.0   1.0      0.0    1.0     0.0   \n",
       "\n",
       "          cd40     cd420      cd80     cd820  \n",
       "0     0.646372  0.762617  0.166265  0.129356  \n",
       "1     0.103420  0.114953  0.146988  0.299825  \n",
       "2     0.326105  0.366355  0.181446  0.164202  \n",
       "3     0.191827  0.097196  0.083133  0.022562  \n",
       "4     0.267723  0.262617  0.361687  0.176987  \n",
       "...        ...       ...       ...       ...  \n",
       "1706  0.332777  0.261682  0.141928  0.189020  \n",
       "1707  0.260217  0.185047  0.215663  0.269491  \n",
       "1708  0.338616  0.469159  0.125060  0.217598  \n",
       "1709  0.312761  0.240187  0.110843  0.101279  \n",
       "1710  0.283570  0.230841  0.192289  0.188017  \n",
       "\n",
       "[1711 rows x 27 columns]"
      ]
     },
     "execution_count": 465,
     "metadata": {},
     "output_type": "execute_result"
    }
   ],
   "source": [
    "prepared_x_train"
   ]
  },
  {
   "attachments": {},
   "cell_type": "markdown",
   "id": "a30ef9a4",
   "metadata": {},
   "source": [
    "# 5. Developing Models"
   ]
  },
  {
   "cell_type": "code",
   "execution_count": 466,
   "id": "60beb393",
   "metadata": {},
   "outputs": [],
   "source": [
    "from sklearn.model_selection import GridSearchCV\n",
    "from sklearn.metrics import confusion_matrix, classification_report, accuracy_score"
   ]
  },
  {
   "attachments": {},
   "cell_type": "markdown",
   "id": "7e940734",
   "metadata": {},
   "source": [
    "## 5.1. Random Forest"
   ]
  },
  {
   "cell_type": "code",
   "execution_count": 467,
   "id": "2650a191",
   "metadata": {},
   "outputs": [
    {
     "data": {
      "text/html": [
       "<style>#sk-container-id-25 {color: black;background-color: white;}#sk-container-id-25 pre{padding: 0;}#sk-container-id-25 div.sk-toggleable {background-color: white;}#sk-container-id-25 label.sk-toggleable__label {cursor: pointer;display: block;width: 100%;margin-bottom: 0;padding: 0.3em;box-sizing: border-box;text-align: center;}#sk-container-id-25 label.sk-toggleable__label-arrow:before {content: \"▸\";float: left;margin-right: 0.25em;color: #696969;}#sk-container-id-25 label.sk-toggleable__label-arrow:hover:before {color: black;}#sk-container-id-25 div.sk-estimator:hover label.sk-toggleable__label-arrow:before {color: black;}#sk-container-id-25 div.sk-toggleable__content {max-height: 0;max-width: 0;overflow: hidden;text-align: left;background-color: #f0f8ff;}#sk-container-id-25 div.sk-toggleable__content pre {margin: 0.2em;color: black;border-radius: 0.25em;background-color: #f0f8ff;}#sk-container-id-25 input.sk-toggleable__control:checked~div.sk-toggleable__content {max-height: 200px;max-width: 100%;overflow: auto;}#sk-container-id-25 input.sk-toggleable__control:checked~label.sk-toggleable__label-arrow:before {content: \"▾\";}#sk-container-id-25 div.sk-estimator input.sk-toggleable__control:checked~label.sk-toggleable__label {background-color: #d4ebff;}#sk-container-id-25 div.sk-label input.sk-toggleable__control:checked~label.sk-toggleable__label {background-color: #d4ebff;}#sk-container-id-25 input.sk-hidden--visually {border: 0;clip: rect(1px 1px 1px 1px);clip: rect(1px, 1px, 1px, 1px);height: 1px;margin: -1px;overflow: hidden;padding: 0;position: absolute;width: 1px;}#sk-container-id-25 div.sk-estimator {font-family: monospace;background-color: #f0f8ff;border: 1px dotted black;border-radius: 0.25em;box-sizing: border-box;margin-bottom: 0.5em;}#sk-container-id-25 div.sk-estimator:hover {background-color: #d4ebff;}#sk-container-id-25 div.sk-parallel-item::after {content: \"\";width: 100%;border-bottom: 1px solid gray;flex-grow: 1;}#sk-container-id-25 div.sk-label:hover label.sk-toggleable__label {background-color: #d4ebff;}#sk-container-id-25 div.sk-serial::before {content: \"\";position: absolute;border-left: 1px solid gray;box-sizing: border-box;top: 0;bottom: 0;left: 50%;z-index: 0;}#sk-container-id-25 div.sk-serial {display: flex;flex-direction: column;align-items: center;background-color: white;padding-right: 0.2em;padding-left: 0.2em;position: relative;}#sk-container-id-25 div.sk-item {position: relative;z-index: 1;}#sk-container-id-25 div.sk-parallel {display: flex;align-items: stretch;justify-content: center;background-color: white;position: relative;}#sk-container-id-25 div.sk-item::before, #sk-container-id-25 div.sk-parallel-item::before {content: \"\";position: absolute;border-left: 1px solid gray;box-sizing: border-box;top: 0;bottom: 0;left: 50%;z-index: -1;}#sk-container-id-25 div.sk-parallel-item {display: flex;flex-direction: column;z-index: 1;position: relative;background-color: white;}#sk-container-id-25 div.sk-parallel-item:first-child::after {align-self: flex-end;width: 50%;}#sk-container-id-25 div.sk-parallel-item:last-child::after {align-self: flex-start;width: 50%;}#sk-container-id-25 div.sk-parallel-item:only-child::after {width: 0;}#sk-container-id-25 div.sk-dashed-wrapped {border: 1px dashed gray;margin: 0 0.4em 0.5em 0.4em;box-sizing: border-box;padding-bottom: 0.4em;background-color: white;}#sk-container-id-25 div.sk-label label {font-family: monospace;font-weight: bold;display: inline-block;line-height: 1.2em;}#sk-container-id-25 div.sk-label-container {text-align: center;}#sk-container-id-25 div.sk-container {/* jupyter's `normalize.less` sets `[hidden] { display: none; }` but bootstrap.min.css set `[hidden] { display: none !important; }` so we also need the `!important` here to be able to override the default hidden behavior on the sphinx rendered scikit-learn.org. See: https://github.com/scikit-learn/scikit-learn/issues/21755 */display: inline-block !important;position: relative;}#sk-container-id-25 div.sk-text-repr-fallback {display: none;}</style><div id=\"sk-container-id-25\" class=\"sk-top-container\"><div class=\"sk-text-repr-fallback\"><pre>GridSearchCV(cv=5, estimator=RandomForestClassifier(random_state=11),\n",
       "             param_grid={&#x27;criterion&#x27;: [&#x27;gini&#x27;, &#x27;entropy&#x27;],\n",
       "                         &#x27;max_depth&#x27;: [5, 10, 15, None],\n",
       "                         &#x27;max_features&#x27;: [10, 15, 20, None]},\n",
       "             return_train_score=True, scoring=&#x27;balanced_accuracy&#x27;)</pre><b>In a Jupyter environment, please rerun this cell to show the HTML representation or trust the notebook. <br />On GitHub, the HTML representation is unable to render, please try loading this page with nbviewer.org.</b></div><div class=\"sk-container\" hidden><div class=\"sk-item sk-dashed-wrapped\"><div class=\"sk-label-container\"><div class=\"sk-label sk-toggleable\"><input class=\"sk-toggleable__control sk-hidden--visually\" id=\"sk-estimator-id-80\" type=\"checkbox\" ><label for=\"sk-estimator-id-80\" class=\"sk-toggleable__label sk-toggleable__label-arrow\">GridSearchCV</label><div class=\"sk-toggleable__content\"><pre>GridSearchCV(cv=5, estimator=RandomForestClassifier(random_state=11),\n",
       "             param_grid={&#x27;criterion&#x27;: [&#x27;gini&#x27;, &#x27;entropy&#x27;],\n",
       "                         &#x27;max_depth&#x27;: [5, 10, 15, None],\n",
       "                         &#x27;max_features&#x27;: [10, 15, 20, None]},\n",
       "             return_train_score=True, scoring=&#x27;balanced_accuracy&#x27;)</pre></div></div></div><div class=\"sk-parallel\"><div class=\"sk-parallel-item\"><div class=\"sk-item\"><div class=\"sk-label-container\"><div class=\"sk-label sk-toggleable\"><input class=\"sk-toggleable__control sk-hidden--visually\" id=\"sk-estimator-id-81\" type=\"checkbox\" ><label for=\"sk-estimator-id-81\" class=\"sk-toggleable__label sk-toggleable__label-arrow\">estimator: RandomForestClassifier</label><div class=\"sk-toggleable__content\"><pre>RandomForestClassifier(random_state=11)</pre></div></div></div><div class=\"sk-serial\"><div class=\"sk-item\"><div class=\"sk-estimator sk-toggleable\"><input class=\"sk-toggleable__control sk-hidden--visually\" id=\"sk-estimator-id-82\" type=\"checkbox\" ><label for=\"sk-estimator-id-82\" class=\"sk-toggleable__label sk-toggleable__label-arrow\">RandomForestClassifier</label><div class=\"sk-toggleable__content\"><pre>RandomForestClassifier(random_state=11)</pre></div></div></div></div></div></div></div></div></div></div>"
      ],
      "text/plain": [
       "GridSearchCV(cv=5, estimator=RandomForestClassifier(random_state=11),\n",
       "             param_grid={'criterion': ['gini', 'entropy'],\n",
       "                         'max_depth': [5, 10, 15, None],\n",
       "                         'max_features': [10, 15, 20, None]},\n",
       "             return_train_score=True, scoring='balanced_accuracy')"
      ]
     },
     "execution_count": 467,
     "metadata": {},
     "output_type": "execute_result"
    }
   ],
   "source": [
    "from sklearn.ensemble import RandomForestClassifier\n",
    "\n",
    "rf = RandomForestClassifier(random_state=11)\n",
    "\n",
    "rf_params = {\n",
    "    'max_depth': [5, 10, 15, None],\n",
    "    'max_features': [10, 15, 20, None],\n",
    "    'criterion': ['gini', 'entropy']\n",
    "}\n",
    "\n",
    "grid_rf = GridSearchCV(rf, rf_params, scoring='balanced_accuracy',\n",
    "                       return_train_score=True, cv=5)\n",
    "\n",
    "grid_rf.fit(prepared_x_train, y_train)"
   ]
  },
  {
   "cell_type": "code",
   "execution_count": 468,
   "id": "40db9847",
   "metadata": {},
   "outputs": [
    {
     "data": {
      "text/html": [
       "<div>\n",
       "<style scoped>\n",
       "    .dataframe tbody tr th:only-of-type {\n",
       "        vertical-align: middle;\n",
       "    }\n",
       "\n",
       "    .dataframe tbody tr th {\n",
       "        vertical-align: top;\n",
       "    }\n",
       "\n",
       "    .dataframe thead th {\n",
       "        text-align: right;\n",
       "    }\n",
       "</style>\n",
       "<table border=\"1\" class=\"dataframe\">\n",
       "  <thead>\n",
       "    <tr style=\"text-align: right;\">\n",
       "      <th></th>\n",
       "      <th>param_max_depth</th>\n",
       "      <th>param_max_features</th>\n",
       "      <th>param_criterion</th>\n",
       "      <th>mean_train_score</th>\n",
       "      <th>mean_test_score</th>\n",
       "    </tr>\n",
       "  </thead>\n",
       "  <tbody>\n",
       "    <tr>\n",
       "      <th>17</th>\n",
       "      <td>5</td>\n",
       "      <td>15</td>\n",
       "      <td>entropy</td>\n",
       "      <td>0.866047</td>\n",
       "      <td>0.831401</td>\n",
       "    </tr>\n",
       "    <tr>\n",
       "      <th>24</th>\n",
       "      <td>15</td>\n",
       "      <td>10</td>\n",
       "      <td>entropy</td>\n",
       "      <td>1.000000</td>\n",
       "      <td>0.828728</td>\n",
       "    </tr>\n",
       "    <tr>\n",
       "      <th>20</th>\n",
       "      <td>10</td>\n",
       "      <td>10</td>\n",
       "      <td>entropy</td>\n",
       "      <td>0.992206</td>\n",
       "      <td>0.828683</td>\n",
       "    </tr>\n",
       "    <tr>\n",
       "      <th>28</th>\n",
       "      <td>None</td>\n",
       "      <td>10</td>\n",
       "      <td>entropy</td>\n",
       "      <td>1.000000</td>\n",
       "      <td>0.828251</td>\n",
       "    </tr>\n",
       "    <tr>\n",
       "      <th>5</th>\n",
       "      <td>10</td>\n",
       "      <td>15</td>\n",
       "      <td>gini</td>\n",
       "      <td>0.991010</td>\n",
       "      <td>0.825389</td>\n",
       "    </tr>\n",
       "  </tbody>\n",
       "</table>\n",
       "</div>"
      ],
      "text/plain": [
       "   param_max_depth param_max_features param_criterion  mean_train_score  \\\n",
       "17               5                 15         entropy          0.866047   \n",
       "24              15                 10         entropy          1.000000   \n",
       "20              10                 10         entropy          0.992206   \n",
       "28            None                 10         entropy          1.000000   \n",
       "5               10                 15            gini          0.991010   \n",
       "\n",
       "    mean_test_score  \n",
       "17         0.831401  \n",
       "24         0.828728  \n",
       "20         0.828683  \n",
       "28         0.828251  \n",
       "5          0.825389  "
      ]
     },
     "execution_count": 468,
     "metadata": {},
     "output_type": "execute_result"
    }
   ],
   "source": [
    "cv_result = pd.DataFrame(grid_rf.cv_results_)[['param_max_depth',\n",
    "                                              'param_max_features',\n",
    "                                              'param_criterion',\n",
    "                                              'mean_train_score',\n",
    "                                              'mean_test_score']].sort_values('mean_test_score', ascending=False)\n",
    "cv_result.head()"
   ]
  },
  {
   "cell_type": "code",
   "execution_count": 469,
   "id": "9e63e4f9",
   "metadata": {},
   "outputs": [],
   "source": [
    "best_rf = grid_rf.best_estimator_"
   ]
  },
  {
   "attachments": {},
   "cell_type": "markdown",
   "id": "375a5581",
   "metadata": {},
   "source": [
    "## 5.2. Gradient Boosting"
   ]
  },
  {
   "cell_type": "code",
   "execution_count": 470,
   "id": "86eeaca1",
   "metadata": {},
   "outputs": [
    {
     "data": {
      "text/html": [
       "<style>#sk-container-id-26 {color: black;background-color: white;}#sk-container-id-26 pre{padding: 0;}#sk-container-id-26 div.sk-toggleable {background-color: white;}#sk-container-id-26 label.sk-toggleable__label {cursor: pointer;display: block;width: 100%;margin-bottom: 0;padding: 0.3em;box-sizing: border-box;text-align: center;}#sk-container-id-26 label.sk-toggleable__label-arrow:before {content: \"▸\";float: left;margin-right: 0.25em;color: #696969;}#sk-container-id-26 label.sk-toggleable__label-arrow:hover:before {color: black;}#sk-container-id-26 div.sk-estimator:hover label.sk-toggleable__label-arrow:before {color: black;}#sk-container-id-26 div.sk-toggleable__content {max-height: 0;max-width: 0;overflow: hidden;text-align: left;background-color: #f0f8ff;}#sk-container-id-26 div.sk-toggleable__content pre {margin: 0.2em;color: black;border-radius: 0.25em;background-color: #f0f8ff;}#sk-container-id-26 input.sk-toggleable__control:checked~div.sk-toggleable__content {max-height: 200px;max-width: 100%;overflow: auto;}#sk-container-id-26 input.sk-toggleable__control:checked~label.sk-toggleable__label-arrow:before {content: \"▾\";}#sk-container-id-26 div.sk-estimator input.sk-toggleable__control:checked~label.sk-toggleable__label {background-color: #d4ebff;}#sk-container-id-26 div.sk-label input.sk-toggleable__control:checked~label.sk-toggleable__label {background-color: #d4ebff;}#sk-container-id-26 input.sk-hidden--visually {border: 0;clip: rect(1px 1px 1px 1px);clip: rect(1px, 1px, 1px, 1px);height: 1px;margin: -1px;overflow: hidden;padding: 0;position: absolute;width: 1px;}#sk-container-id-26 div.sk-estimator {font-family: monospace;background-color: #f0f8ff;border: 1px dotted black;border-radius: 0.25em;box-sizing: border-box;margin-bottom: 0.5em;}#sk-container-id-26 div.sk-estimator:hover {background-color: #d4ebff;}#sk-container-id-26 div.sk-parallel-item::after {content: \"\";width: 100%;border-bottom: 1px solid gray;flex-grow: 1;}#sk-container-id-26 div.sk-label:hover label.sk-toggleable__label {background-color: #d4ebff;}#sk-container-id-26 div.sk-serial::before {content: \"\";position: absolute;border-left: 1px solid gray;box-sizing: border-box;top: 0;bottom: 0;left: 50%;z-index: 0;}#sk-container-id-26 div.sk-serial {display: flex;flex-direction: column;align-items: center;background-color: white;padding-right: 0.2em;padding-left: 0.2em;position: relative;}#sk-container-id-26 div.sk-item {position: relative;z-index: 1;}#sk-container-id-26 div.sk-parallel {display: flex;align-items: stretch;justify-content: center;background-color: white;position: relative;}#sk-container-id-26 div.sk-item::before, #sk-container-id-26 div.sk-parallel-item::before {content: \"\";position: absolute;border-left: 1px solid gray;box-sizing: border-box;top: 0;bottom: 0;left: 50%;z-index: -1;}#sk-container-id-26 div.sk-parallel-item {display: flex;flex-direction: column;z-index: 1;position: relative;background-color: white;}#sk-container-id-26 div.sk-parallel-item:first-child::after {align-self: flex-end;width: 50%;}#sk-container-id-26 div.sk-parallel-item:last-child::after {align-self: flex-start;width: 50%;}#sk-container-id-26 div.sk-parallel-item:only-child::after {width: 0;}#sk-container-id-26 div.sk-dashed-wrapped {border: 1px dashed gray;margin: 0 0.4em 0.5em 0.4em;box-sizing: border-box;padding-bottom: 0.4em;background-color: white;}#sk-container-id-26 div.sk-label label {font-family: monospace;font-weight: bold;display: inline-block;line-height: 1.2em;}#sk-container-id-26 div.sk-label-container {text-align: center;}#sk-container-id-26 div.sk-container {/* jupyter's `normalize.less` sets `[hidden] { display: none; }` but bootstrap.min.css set `[hidden] { display: none !important; }` so we also need the `!important` here to be able to override the default hidden behavior on the sphinx rendered scikit-learn.org. See: https://github.com/scikit-learn/scikit-learn/issues/21755 */display: inline-block !important;position: relative;}#sk-container-id-26 div.sk-text-repr-fallback {display: none;}</style><div id=\"sk-container-id-26\" class=\"sk-top-container\"><div class=\"sk-text-repr-fallback\"><pre>GridSearchCV(cv=5, estimator=GradientBoostingClassifier(random_state=11),\n",
       "             param_grid={&#x27;learning_rate&#x27;: [0.01, 0.1, 1],\n",
       "                         &#x27;max_depth&#x27;: [5, 10, 15, None],\n",
       "                         &#x27;max_features&#x27;: [10, 15, 20, None]},\n",
       "             return_train_score=True, scoring=&#x27;balanced_accuracy&#x27;)</pre><b>In a Jupyter environment, please rerun this cell to show the HTML representation or trust the notebook. <br />On GitHub, the HTML representation is unable to render, please try loading this page with nbviewer.org.</b></div><div class=\"sk-container\" hidden><div class=\"sk-item sk-dashed-wrapped\"><div class=\"sk-label-container\"><div class=\"sk-label sk-toggleable\"><input class=\"sk-toggleable__control sk-hidden--visually\" id=\"sk-estimator-id-83\" type=\"checkbox\" ><label for=\"sk-estimator-id-83\" class=\"sk-toggleable__label sk-toggleable__label-arrow\">GridSearchCV</label><div class=\"sk-toggleable__content\"><pre>GridSearchCV(cv=5, estimator=GradientBoostingClassifier(random_state=11),\n",
       "             param_grid={&#x27;learning_rate&#x27;: [0.01, 0.1, 1],\n",
       "                         &#x27;max_depth&#x27;: [5, 10, 15, None],\n",
       "                         &#x27;max_features&#x27;: [10, 15, 20, None]},\n",
       "             return_train_score=True, scoring=&#x27;balanced_accuracy&#x27;)</pre></div></div></div><div class=\"sk-parallel\"><div class=\"sk-parallel-item\"><div class=\"sk-item\"><div class=\"sk-label-container\"><div class=\"sk-label sk-toggleable\"><input class=\"sk-toggleable__control sk-hidden--visually\" id=\"sk-estimator-id-84\" type=\"checkbox\" ><label for=\"sk-estimator-id-84\" class=\"sk-toggleable__label sk-toggleable__label-arrow\">estimator: GradientBoostingClassifier</label><div class=\"sk-toggleable__content\"><pre>GradientBoostingClassifier(random_state=11)</pre></div></div></div><div class=\"sk-serial\"><div class=\"sk-item\"><div class=\"sk-estimator sk-toggleable\"><input class=\"sk-toggleable__control sk-hidden--visually\" id=\"sk-estimator-id-85\" type=\"checkbox\" ><label for=\"sk-estimator-id-85\" class=\"sk-toggleable__label sk-toggleable__label-arrow\">GradientBoostingClassifier</label><div class=\"sk-toggleable__content\"><pre>GradientBoostingClassifier(random_state=11)</pre></div></div></div></div></div></div></div></div></div></div>"
      ],
      "text/plain": [
       "GridSearchCV(cv=5, estimator=GradientBoostingClassifier(random_state=11),\n",
       "             param_grid={'learning_rate': [0.01, 0.1, 1],\n",
       "                         'max_depth': [5, 10, 15, None],\n",
       "                         'max_features': [10, 15, 20, None]},\n",
       "             return_train_score=True, scoring='balanced_accuracy')"
      ]
     },
     "execution_count": 470,
     "metadata": {},
     "output_type": "execute_result"
    }
   ],
   "source": [
    "from sklearn.ensemble import GradientBoostingClassifier\n",
    "\n",
    "gb = GradientBoostingClassifier(random_state=11)\n",
    "\n",
    "gb_params = {\n",
    "    'max_depth': [5, 10, 15, None],\n",
    "    'max_features': [10, 15, 20, None],\n",
    "    'learning_rate': [0.01, 0.1, 1]\n",
    "}\n",
    "\n",
    "grid_gb = GridSearchCV(gb, gb_params, scoring='balanced_accuracy',\n",
    "                       return_train_score=True, cv=5)\n",
    "\n",
    "grid_gb.fit(prepared_x_train, y_train)"
   ]
  },
  {
   "cell_type": "code",
   "execution_count": 471,
   "id": "697cfe9c",
   "metadata": {},
   "outputs": [
    {
     "data": {
      "text/html": [
       "<div>\n",
       "<style scoped>\n",
       "    .dataframe tbody tr th:only-of-type {\n",
       "        vertical-align: middle;\n",
       "    }\n",
       "\n",
       "    .dataframe tbody tr th {\n",
       "        vertical-align: top;\n",
       "    }\n",
       "\n",
       "    .dataframe thead th {\n",
       "        text-align: right;\n",
       "    }\n",
       "</style>\n",
       "<table border=\"1\" class=\"dataframe\">\n",
       "  <thead>\n",
       "    <tr style=\"text-align: right;\">\n",
       "      <th></th>\n",
       "      <th>param_max_depth</th>\n",
       "      <th>param_max_features</th>\n",
       "      <th>param_learning_rate</th>\n",
       "      <th>mean_train_score</th>\n",
       "      <th>mean_test_score</th>\n",
       "    </tr>\n",
       "  </thead>\n",
       "  <tbody>\n",
       "    <tr>\n",
       "      <th>40</th>\n",
       "      <td>15</td>\n",
       "      <td>10</td>\n",
       "      <td>1</td>\n",
       "      <td>1.0</td>\n",
       "      <td>0.827910</td>\n",
       "    </tr>\n",
       "    <tr>\n",
       "      <th>20</th>\n",
       "      <td>10</td>\n",
       "      <td>10</td>\n",
       "      <td>0.1</td>\n",
       "      <td>1.0</td>\n",
       "      <td>0.827459</td>\n",
       "    </tr>\n",
       "    <tr>\n",
       "      <th>44</th>\n",
       "      <td>None</td>\n",
       "      <td>10</td>\n",
       "      <td>1</td>\n",
       "      <td>1.0</td>\n",
       "      <td>0.825060</td>\n",
       "    </tr>\n",
       "    <tr>\n",
       "      <th>28</th>\n",
       "      <td>None</td>\n",
       "      <td>10</td>\n",
       "      <td>0.1</td>\n",
       "      <td>1.0</td>\n",
       "      <td>0.823843</td>\n",
       "    </tr>\n",
       "    <tr>\n",
       "      <th>21</th>\n",
       "      <td>10</td>\n",
       "      <td>15</td>\n",
       "      <td>0.1</td>\n",
       "      <td>1.0</td>\n",
       "      <td>0.823502</td>\n",
       "    </tr>\n",
       "  </tbody>\n",
       "</table>\n",
       "</div>"
      ],
      "text/plain": [
       "   param_max_depth param_max_features param_learning_rate  mean_train_score  \\\n",
       "40              15                 10                   1               1.0   \n",
       "20              10                 10                 0.1               1.0   \n",
       "44            None                 10                   1               1.0   \n",
       "28            None                 10                 0.1               1.0   \n",
       "21              10                 15                 0.1               1.0   \n",
       "\n",
       "    mean_test_score  \n",
       "40         0.827910  \n",
       "20         0.827459  \n",
       "44         0.825060  \n",
       "28         0.823843  \n",
       "21         0.823502  "
      ]
     },
     "execution_count": 471,
     "metadata": {},
     "output_type": "execute_result"
    }
   ],
   "source": [
    "cv_result = pd.DataFrame(grid_gb.cv_results_)[['param_max_depth',\n",
    "                                              'param_max_features',\n",
    "                                              'param_learning_rate',\n",
    "                                              'mean_train_score',\n",
    "                                              'mean_test_score']].sort_values('mean_test_score', ascending=False)\n",
    "cv_result.head()"
   ]
  },
  {
   "cell_type": "code",
   "execution_count": 472,
   "id": "df5b9f28",
   "metadata": {},
   "outputs": [],
   "source": [
    "best_gb = grid_gb.best_estimator_"
   ]
  },
  {
   "attachments": {},
   "cell_type": "markdown",
   "id": "d3d7f4b3",
   "metadata": {},
   "source": [
    "## 5.3. Extra Trees"
   ]
  },
  {
   "cell_type": "code",
   "execution_count": 473,
   "id": "3b4628e0",
   "metadata": {},
   "outputs": [
    {
     "data": {
      "text/html": [
       "<style>#sk-container-id-27 {color: black;background-color: white;}#sk-container-id-27 pre{padding: 0;}#sk-container-id-27 div.sk-toggleable {background-color: white;}#sk-container-id-27 label.sk-toggleable__label {cursor: pointer;display: block;width: 100%;margin-bottom: 0;padding: 0.3em;box-sizing: border-box;text-align: center;}#sk-container-id-27 label.sk-toggleable__label-arrow:before {content: \"▸\";float: left;margin-right: 0.25em;color: #696969;}#sk-container-id-27 label.sk-toggleable__label-arrow:hover:before {color: black;}#sk-container-id-27 div.sk-estimator:hover label.sk-toggleable__label-arrow:before {color: black;}#sk-container-id-27 div.sk-toggleable__content {max-height: 0;max-width: 0;overflow: hidden;text-align: left;background-color: #f0f8ff;}#sk-container-id-27 div.sk-toggleable__content pre {margin: 0.2em;color: black;border-radius: 0.25em;background-color: #f0f8ff;}#sk-container-id-27 input.sk-toggleable__control:checked~div.sk-toggleable__content {max-height: 200px;max-width: 100%;overflow: auto;}#sk-container-id-27 input.sk-toggleable__control:checked~label.sk-toggleable__label-arrow:before {content: \"▾\";}#sk-container-id-27 div.sk-estimator input.sk-toggleable__control:checked~label.sk-toggleable__label {background-color: #d4ebff;}#sk-container-id-27 div.sk-label input.sk-toggleable__control:checked~label.sk-toggleable__label {background-color: #d4ebff;}#sk-container-id-27 input.sk-hidden--visually {border: 0;clip: rect(1px 1px 1px 1px);clip: rect(1px, 1px, 1px, 1px);height: 1px;margin: -1px;overflow: hidden;padding: 0;position: absolute;width: 1px;}#sk-container-id-27 div.sk-estimator {font-family: monospace;background-color: #f0f8ff;border: 1px dotted black;border-radius: 0.25em;box-sizing: border-box;margin-bottom: 0.5em;}#sk-container-id-27 div.sk-estimator:hover {background-color: #d4ebff;}#sk-container-id-27 div.sk-parallel-item::after {content: \"\";width: 100%;border-bottom: 1px solid gray;flex-grow: 1;}#sk-container-id-27 div.sk-label:hover label.sk-toggleable__label {background-color: #d4ebff;}#sk-container-id-27 div.sk-serial::before {content: \"\";position: absolute;border-left: 1px solid gray;box-sizing: border-box;top: 0;bottom: 0;left: 50%;z-index: 0;}#sk-container-id-27 div.sk-serial {display: flex;flex-direction: column;align-items: center;background-color: white;padding-right: 0.2em;padding-left: 0.2em;position: relative;}#sk-container-id-27 div.sk-item {position: relative;z-index: 1;}#sk-container-id-27 div.sk-parallel {display: flex;align-items: stretch;justify-content: center;background-color: white;position: relative;}#sk-container-id-27 div.sk-item::before, #sk-container-id-27 div.sk-parallel-item::before {content: \"\";position: absolute;border-left: 1px solid gray;box-sizing: border-box;top: 0;bottom: 0;left: 50%;z-index: -1;}#sk-container-id-27 div.sk-parallel-item {display: flex;flex-direction: column;z-index: 1;position: relative;background-color: white;}#sk-container-id-27 div.sk-parallel-item:first-child::after {align-self: flex-end;width: 50%;}#sk-container-id-27 div.sk-parallel-item:last-child::after {align-self: flex-start;width: 50%;}#sk-container-id-27 div.sk-parallel-item:only-child::after {width: 0;}#sk-container-id-27 div.sk-dashed-wrapped {border: 1px dashed gray;margin: 0 0.4em 0.5em 0.4em;box-sizing: border-box;padding-bottom: 0.4em;background-color: white;}#sk-container-id-27 div.sk-label label {font-family: monospace;font-weight: bold;display: inline-block;line-height: 1.2em;}#sk-container-id-27 div.sk-label-container {text-align: center;}#sk-container-id-27 div.sk-container {/* jupyter's `normalize.less` sets `[hidden] { display: none; }` but bootstrap.min.css set `[hidden] { display: none !important; }` so we also need the `!important` here to be able to override the default hidden behavior on the sphinx rendered scikit-learn.org. See: https://github.com/scikit-learn/scikit-learn/issues/21755 */display: inline-block !important;position: relative;}#sk-container-id-27 div.sk-text-repr-fallback {display: none;}</style><div id=\"sk-container-id-27\" class=\"sk-top-container\"><div class=\"sk-text-repr-fallback\"><pre>GridSearchCV(cv=5, estimator=ExtraTreesClassifier(random_state=11),\n",
       "             param_grid={&#x27;criterion&#x27;: [&#x27;gini&#x27;, &#x27;entropy&#x27;],\n",
       "                         &#x27;max_depth&#x27;: [5, 10, 15, None],\n",
       "                         &#x27;max_features&#x27;: [10, 15, 20, None]},\n",
       "             return_train_score=True, scoring=&#x27;balanced_accuracy&#x27;)</pre><b>In a Jupyter environment, please rerun this cell to show the HTML representation or trust the notebook. <br />On GitHub, the HTML representation is unable to render, please try loading this page with nbviewer.org.</b></div><div class=\"sk-container\" hidden><div class=\"sk-item sk-dashed-wrapped\"><div class=\"sk-label-container\"><div class=\"sk-label sk-toggleable\"><input class=\"sk-toggleable__control sk-hidden--visually\" id=\"sk-estimator-id-86\" type=\"checkbox\" ><label for=\"sk-estimator-id-86\" class=\"sk-toggleable__label sk-toggleable__label-arrow\">GridSearchCV</label><div class=\"sk-toggleable__content\"><pre>GridSearchCV(cv=5, estimator=ExtraTreesClassifier(random_state=11),\n",
       "             param_grid={&#x27;criterion&#x27;: [&#x27;gini&#x27;, &#x27;entropy&#x27;],\n",
       "                         &#x27;max_depth&#x27;: [5, 10, 15, None],\n",
       "                         &#x27;max_features&#x27;: [10, 15, 20, None]},\n",
       "             return_train_score=True, scoring=&#x27;balanced_accuracy&#x27;)</pre></div></div></div><div class=\"sk-parallel\"><div class=\"sk-parallel-item\"><div class=\"sk-item\"><div class=\"sk-label-container\"><div class=\"sk-label sk-toggleable\"><input class=\"sk-toggleable__control sk-hidden--visually\" id=\"sk-estimator-id-87\" type=\"checkbox\" ><label for=\"sk-estimator-id-87\" class=\"sk-toggleable__label sk-toggleable__label-arrow\">estimator: ExtraTreesClassifier</label><div class=\"sk-toggleable__content\"><pre>ExtraTreesClassifier(random_state=11)</pre></div></div></div><div class=\"sk-serial\"><div class=\"sk-item\"><div class=\"sk-estimator sk-toggleable\"><input class=\"sk-toggleable__control sk-hidden--visually\" id=\"sk-estimator-id-88\" type=\"checkbox\" ><label for=\"sk-estimator-id-88\" class=\"sk-toggleable__label sk-toggleable__label-arrow\">ExtraTreesClassifier</label><div class=\"sk-toggleable__content\"><pre>ExtraTreesClassifier(random_state=11)</pre></div></div></div></div></div></div></div></div></div></div>"
      ],
      "text/plain": [
       "GridSearchCV(cv=5, estimator=ExtraTreesClassifier(random_state=11),\n",
       "             param_grid={'criterion': ['gini', 'entropy'],\n",
       "                         'max_depth': [5, 10, 15, None],\n",
       "                         'max_features': [10, 15, 20, None]},\n",
       "             return_train_score=True, scoring='balanced_accuracy')"
      ]
     },
     "execution_count": 473,
     "metadata": {},
     "output_type": "execute_result"
    }
   ],
   "source": [
    "from sklearn.ensemble import ExtraTreesClassifier\n",
    "\n",
    "et = ExtraTreesClassifier(random_state=11)\n",
    "\n",
    "et_params = {\n",
    "    'max_depth': [5, 10, 15, None],\n",
    "    'max_features': [10, 15, 20, None],\n",
    "    'criterion': ['gini', 'entropy']\n",
    "}\n",
    "\n",
    "grid_et = GridSearchCV(et, et_params, scoring='balanced_accuracy',\n",
    "                       return_train_score=True, cv=5)\n",
    "\n",
    "grid_et.fit(prepared_x_train, y_train)"
   ]
  },
  {
   "cell_type": "code",
   "execution_count": 474,
   "id": "9cc8a555",
   "metadata": {},
   "outputs": [
    {
     "data": {
      "text/html": [
       "<div>\n",
       "<style scoped>\n",
       "    .dataframe tbody tr th:only-of-type {\n",
       "        vertical-align: middle;\n",
       "    }\n",
       "\n",
       "    .dataframe tbody tr th {\n",
       "        vertical-align: top;\n",
       "    }\n",
       "\n",
       "    .dataframe thead th {\n",
       "        text-align: right;\n",
       "    }\n",
       "</style>\n",
       "<table border=\"1\" class=\"dataframe\">\n",
       "  <thead>\n",
       "    <tr style=\"text-align: right;\">\n",
       "      <th></th>\n",
       "      <th>param_max_depth</th>\n",
       "      <th>param_max_features</th>\n",
       "      <th>param_criterion</th>\n",
       "      <th>mean_train_score</th>\n",
       "      <th>mean_test_score</th>\n",
       "    </tr>\n",
       "  </thead>\n",
       "  <tbody>\n",
       "    <tr>\n",
       "      <th>31</th>\n",
       "      <td>None</td>\n",
       "      <td>None</td>\n",
       "      <td>entropy</td>\n",
       "      <td>1.000000</td>\n",
       "      <td>0.843717</td>\n",
       "    </tr>\n",
       "    <tr>\n",
       "      <th>27</th>\n",
       "      <td>15</td>\n",
       "      <td>None</td>\n",
       "      <td>entropy</td>\n",
       "      <td>1.000000</td>\n",
       "      <td>0.837768</td>\n",
       "    </tr>\n",
       "    <tr>\n",
       "      <th>22</th>\n",
       "      <td>10</td>\n",
       "      <td>20</td>\n",
       "      <td>entropy</td>\n",
       "      <td>0.983117</td>\n",
       "      <td>0.836856</td>\n",
       "    </tr>\n",
       "    <tr>\n",
       "      <th>23</th>\n",
       "      <td>10</td>\n",
       "      <td>None</td>\n",
       "      <td>entropy</td>\n",
       "      <td>0.987314</td>\n",
       "      <td>0.836124</td>\n",
       "    </tr>\n",
       "    <tr>\n",
       "      <th>21</th>\n",
       "      <td>10</td>\n",
       "      <td>15</td>\n",
       "      <td>entropy</td>\n",
       "      <td>0.975718</td>\n",
       "      <td>0.836038</td>\n",
       "    </tr>\n",
       "  </tbody>\n",
       "</table>\n",
       "</div>"
      ],
      "text/plain": [
       "   param_max_depth param_max_features param_criterion  mean_train_score  \\\n",
       "31            None               None         entropy          1.000000   \n",
       "27              15               None         entropy          1.000000   \n",
       "22              10                 20         entropy          0.983117   \n",
       "23              10               None         entropy          0.987314   \n",
       "21              10                 15         entropy          0.975718   \n",
       "\n",
       "    mean_test_score  \n",
       "31         0.843717  \n",
       "27         0.837768  \n",
       "22         0.836856  \n",
       "23         0.836124  \n",
       "21         0.836038  "
      ]
     },
     "execution_count": 474,
     "metadata": {},
     "output_type": "execute_result"
    }
   ],
   "source": [
    "cv_result = pd.DataFrame(grid_et.cv_results_)[['param_max_depth',\n",
    "                                              'param_max_features',\n",
    "                                              'param_criterion',\n",
    "                                              'mean_train_score',\n",
    "                                              'mean_test_score']].sort_values('mean_test_score', ascending=False)\n",
    "cv_result.head()"
   ]
  },
  {
   "cell_type": "code",
   "execution_count": 475,
   "id": "82b3fe58",
   "metadata": {},
   "outputs": [],
   "source": [
    "best_et = grid_et.best_estimator_"
   ]
  },
  {
   "attachments": {},
   "cell_type": "markdown",
   "id": "48dbfc1e",
   "metadata": {},
   "source": [
    "## 5.4. Bagging Classifier"
   ]
  },
  {
   "cell_type": "code",
   "execution_count": 476,
   "id": "b3e82160",
   "metadata": {},
   "outputs": [
    {
     "data": {
      "text/html": [
       "<style>#sk-container-id-28 {color: black;background-color: white;}#sk-container-id-28 pre{padding: 0;}#sk-container-id-28 div.sk-toggleable {background-color: white;}#sk-container-id-28 label.sk-toggleable__label {cursor: pointer;display: block;width: 100%;margin-bottom: 0;padding: 0.3em;box-sizing: border-box;text-align: center;}#sk-container-id-28 label.sk-toggleable__label-arrow:before {content: \"▸\";float: left;margin-right: 0.25em;color: #696969;}#sk-container-id-28 label.sk-toggleable__label-arrow:hover:before {color: black;}#sk-container-id-28 div.sk-estimator:hover label.sk-toggleable__label-arrow:before {color: black;}#sk-container-id-28 div.sk-toggleable__content {max-height: 0;max-width: 0;overflow: hidden;text-align: left;background-color: #f0f8ff;}#sk-container-id-28 div.sk-toggleable__content pre {margin: 0.2em;color: black;border-radius: 0.25em;background-color: #f0f8ff;}#sk-container-id-28 input.sk-toggleable__control:checked~div.sk-toggleable__content {max-height: 200px;max-width: 100%;overflow: auto;}#sk-container-id-28 input.sk-toggleable__control:checked~label.sk-toggleable__label-arrow:before {content: \"▾\";}#sk-container-id-28 div.sk-estimator input.sk-toggleable__control:checked~label.sk-toggleable__label {background-color: #d4ebff;}#sk-container-id-28 div.sk-label input.sk-toggleable__control:checked~label.sk-toggleable__label {background-color: #d4ebff;}#sk-container-id-28 input.sk-hidden--visually {border: 0;clip: rect(1px 1px 1px 1px);clip: rect(1px, 1px, 1px, 1px);height: 1px;margin: -1px;overflow: hidden;padding: 0;position: absolute;width: 1px;}#sk-container-id-28 div.sk-estimator {font-family: monospace;background-color: #f0f8ff;border: 1px dotted black;border-radius: 0.25em;box-sizing: border-box;margin-bottom: 0.5em;}#sk-container-id-28 div.sk-estimator:hover {background-color: #d4ebff;}#sk-container-id-28 div.sk-parallel-item::after {content: \"\";width: 100%;border-bottom: 1px solid gray;flex-grow: 1;}#sk-container-id-28 div.sk-label:hover label.sk-toggleable__label {background-color: #d4ebff;}#sk-container-id-28 div.sk-serial::before {content: \"\";position: absolute;border-left: 1px solid gray;box-sizing: border-box;top: 0;bottom: 0;left: 50%;z-index: 0;}#sk-container-id-28 div.sk-serial {display: flex;flex-direction: column;align-items: center;background-color: white;padding-right: 0.2em;padding-left: 0.2em;position: relative;}#sk-container-id-28 div.sk-item {position: relative;z-index: 1;}#sk-container-id-28 div.sk-parallel {display: flex;align-items: stretch;justify-content: center;background-color: white;position: relative;}#sk-container-id-28 div.sk-item::before, #sk-container-id-28 div.sk-parallel-item::before {content: \"\";position: absolute;border-left: 1px solid gray;box-sizing: border-box;top: 0;bottom: 0;left: 50%;z-index: -1;}#sk-container-id-28 div.sk-parallel-item {display: flex;flex-direction: column;z-index: 1;position: relative;background-color: white;}#sk-container-id-28 div.sk-parallel-item:first-child::after {align-self: flex-end;width: 50%;}#sk-container-id-28 div.sk-parallel-item:last-child::after {align-self: flex-start;width: 50%;}#sk-container-id-28 div.sk-parallel-item:only-child::after {width: 0;}#sk-container-id-28 div.sk-dashed-wrapped {border: 1px dashed gray;margin: 0 0.4em 0.5em 0.4em;box-sizing: border-box;padding-bottom: 0.4em;background-color: white;}#sk-container-id-28 div.sk-label label {font-family: monospace;font-weight: bold;display: inline-block;line-height: 1.2em;}#sk-container-id-28 div.sk-label-container {text-align: center;}#sk-container-id-28 div.sk-container {/* jupyter's `normalize.less` sets `[hidden] { display: none; }` but bootstrap.min.css set `[hidden] { display: none !important; }` so we also need the `!important` here to be able to override the default hidden behavior on the sphinx rendered scikit-learn.org. See: https://github.com/scikit-learn/scikit-learn/issues/21755 */display: inline-block !important;position: relative;}#sk-container-id-28 div.sk-text-repr-fallback {display: none;}</style><div id=\"sk-container-id-28\" class=\"sk-top-container\"><div class=\"sk-text-repr-fallback\"><pre>GridSearchCV(cv=5, estimator=BaggingClassifier(random_state=11),\n",
       "             param_grid={&#x27;estimator&#x27;: [RandomForestClassifier(criterion=&#x27;entropy&#x27;,\n",
       "                                                              max_depth=5,\n",
       "                                                              max_features=15,\n",
       "                                                              random_state=11),\n",
       "                                       GradientBoostingClassifier(learning_rate=1,\n",
       "                                                                  max_depth=15,\n",
       "                                                                  max_features=10,\n",
       "                                                                  random_state=11),\n",
       "                                       ExtraTreesClassifier(criterion=&#x27;entropy&#x27;,\n",
       "                                                            max_features=None,\n",
       "                                                            random_state=11),\n",
       "                                       None]},\n",
       "             return_train_score=True, scoring=&#x27;balanced_accuracy&#x27;)</pre><b>In a Jupyter environment, please rerun this cell to show the HTML representation or trust the notebook. <br />On GitHub, the HTML representation is unable to render, please try loading this page with nbviewer.org.</b></div><div class=\"sk-container\" hidden><div class=\"sk-item sk-dashed-wrapped\"><div class=\"sk-label-container\"><div class=\"sk-label sk-toggleable\"><input class=\"sk-toggleable__control sk-hidden--visually\" id=\"sk-estimator-id-89\" type=\"checkbox\" ><label for=\"sk-estimator-id-89\" class=\"sk-toggleable__label sk-toggleable__label-arrow\">GridSearchCV</label><div class=\"sk-toggleable__content\"><pre>GridSearchCV(cv=5, estimator=BaggingClassifier(random_state=11),\n",
       "             param_grid={&#x27;estimator&#x27;: [RandomForestClassifier(criterion=&#x27;entropy&#x27;,\n",
       "                                                              max_depth=5,\n",
       "                                                              max_features=15,\n",
       "                                                              random_state=11),\n",
       "                                       GradientBoostingClassifier(learning_rate=1,\n",
       "                                                                  max_depth=15,\n",
       "                                                                  max_features=10,\n",
       "                                                                  random_state=11),\n",
       "                                       ExtraTreesClassifier(criterion=&#x27;entropy&#x27;,\n",
       "                                                            max_features=None,\n",
       "                                                            random_state=11),\n",
       "                                       None]},\n",
       "             return_train_score=True, scoring=&#x27;balanced_accuracy&#x27;)</pre></div></div></div><div class=\"sk-parallel\"><div class=\"sk-parallel-item\"><div class=\"sk-item\"><div class=\"sk-label-container\"><div class=\"sk-label sk-toggleable\"><input class=\"sk-toggleable__control sk-hidden--visually\" id=\"sk-estimator-id-90\" type=\"checkbox\" ><label for=\"sk-estimator-id-90\" class=\"sk-toggleable__label sk-toggleable__label-arrow\">estimator: BaggingClassifier</label><div class=\"sk-toggleable__content\"><pre>BaggingClassifier(random_state=11)</pre></div></div></div><div class=\"sk-serial\"><div class=\"sk-item\"><div class=\"sk-estimator sk-toggleable\"><input class=\"sk-toggleable__control sk-hidden--visually\" id=\"sk-estimator-id-91\" type=\"checkbox\" ><label for=\"sk-estimator-id-91\" class=\"sk-toggleable__label sk-toggleable__label-arrow\">BaggingClassifier</label><div class=\"sk-toggleable__content\"><pre>BaggingClassifier(random_state=11)</pre></div></div></div></div></div></div></div></div></div></div>"
      ],
      "text/plain": [
       "GridSearchCV(cv=5, estimator=BaggingClassifier(random_state=11),\n",
       "             param_grid={'estimator': [RandomForestClassifier(criterion='entropy',\n",
       "                                                              max_depth=5,\n",
       "                                                              max_features=15,\n",
       "                                                              random_state=11),\n",
       "                                       GradientBoostingClassifier(learning_rate=1,\n",
       "                                                                  max_depth=15,\n",
       "                                                                  max_features=10,\n",
       "                                                                  random_state=11),\n",
       "                                       ExtraTreesClassifier(criterion='entropy',\n",
       "                                                            max_features=None,\n",
       "                                                            random_state=11),\n",
       "                                       None]},\n",
       "             return_train_score=True, scoring='balanced_accuracy')"
      ]
     },
     "execution_count": 476,
     "metadata": {},
     "output_type": "execute_result"
    }
   ],
   "source": [
    "from sklearn.ensemble import BaggingClassifier\n",
    "\n",
    "bg = BaggingClassifier(random_state=11)\n",
    "\n",
    "bg_params = {\n",
    "    'estimator': [best_rf, best_gb, best_et, None]\n",
    "}\n",
    "\n",
    "grid_bg = GridSearchCV(bg, bg_params, scoring='balanced_accuracy',\n",
    "                       return_train_score=True, cv=5)\n",
    "\n",
    "grid_bg.fit(prepared_x_train, y_train)"
   ]
  },
  {
   "cell_type": "code",
   "execution_count": 477,
   "id": "29b4b705",
   "metadata": {},
   "outputs": [
    {
     "data": {
      "text/html": [
       "<div>\n",
       "<style scoped>\n",
       "    .dataframe tbody tr th:only-of-type {\n",
       "        vertical-align: middle;\n",
       "    }\n",
       "\n",
       "    .dataframe tbody tr th {\n",
       "        vertical-align: top;\n",
       "    }\n",
       "\n",
       "    .dataframe thead th {\n",
       "        text-align: right;\n",
       "    }\n",
       "</style>\n",
       "<table border=\"1\" class=\"dataframe\">\n",
       "  <thead>\n",
       "    <tr style=\"text-align: right;\">\n",
       "      <th></th>\n",
       "      <th>param_estimator</th>\n",
       "      <th>mean_train_score</th>\n",
       "      <th>mean_test_score</th>\n",
       "    </tr>\n",
       "  </thead>\n",
       "  <tbody>\n",
       "    <tr>\n",
       "      <th>2</th>\n",
       "      <td>(ExtraTreeClassifier(criterion='entropy', max_...</td>\n",
       "      <td>0.991030</td>\n",
       "      <td>0.833706</td>\n",
       "    </tr>\n",
       "    <tr>\n",
       "      <th>0</th>\n",
       "      <td>(DecisionTreeClassifier(criterion='entropy', m...</td>\n",
       "      <td>0.862502</td>\n",
       "      <td>0.828666</td>\n",
       "    </tr>\n",
       "    <tr>\n",
       "      <th>1</th>\n",
       "      <td>([DecisionTreeRegressor(criterion='friedman_ms...</td>\n",
       "      <td>0.984377</td>\n",
       "      <td>0.827096</td>\n",
       "    </tr>\n",
       "    <tr>\n",
       "      <th>3</th>\n",
       "      <td>None</td>\n",
       "      <td>0.977840</td>\n",
       "      <td>0.783529</td>\n",
       "    </tr>\n",
       "  </tbody>\n",
       "</table>\n",
       "</div>"
      ],
      "text/plain": [
       "                                     param_estimator  mean_train_score  \\\n",
       "2  (ExtraTreeClassifier(criterion='entropy', max_...          0.991030   \n",
       "0  (DecisionTreeClassifier(criterion='entropy', m...          0.862502   \n",
       "1  ([DecisionTreeRegressor(criterion='friedman_ms...          0.984377   \n",
       "3                                               None          0.977840   \n",
       "\n",
       "   mean_test_score  \n",
       "2         0.833706  \n",
       "0         0.828666  \n",
       "1         0.827096  \n",
       "3         0.783529  "
      ]
     },
     "execution_count": 477,
     "metadata": {},
     "output_type": "execute_result"
    }
   ],
   "source": [
    "cv_result = pd.DataFrame(grid_bg.cv_results_)[['param_estimator',\n",
    "                                              'mean_train_score',\n",
    "                                              'mean_test_score']].sort_values('mean_test_score', ascending=False)\n",
    "cv_result.head()"
   ]
  },
  {
   "cell_type": "code",
   "execution_count": 478,
   "id": "1517386b",
   "metadata": {},
   "outputs": [],
   "source": [
    "best_bg = grid_bg.best_estimator_"
   ]
  },
  {
   "attachments": {},
   "cell_type": "markdown",
   "id": "698f3861",
   "metadata": {},
   "source": [
    "## 5.5. Voting Classifier"
   ]
  },
  {
   "cell_type": "code",
   "execution_count": 479,
   "id": "5cf159c5",
   "metadata": {},
   "outputs": [
    {
     "data": {
      "text/html": [
       "<style>#sk-container-id-29 {color: black;background-color: white;}#sk-container-id-29 pre{padding: 0;}#sk-container-id-29 div.sk-toggleable {background-color: white;}#sk-container-id-29 label.sk-toggleable__label {cursor: pointer;display: block;width: 100%;margin-bottom: 0;padding: 0.3em;box-sizing: border-box;text-align: center;}#sk-container-id-29 label.sk-toggleable__label-arrow:before {content: \"▸\";float: left;margin-right: 0.25em;color: #696969;}#sk-container-id-29 label.sk-toggleable__label-arrow:hover:before {color: black;}#sk-container-id-29 div.sk-estimator:hover label.sk-toggleable__label-arrow:before {color: black;}#sk-container-id-29 div.sk-toggleable__content {max-height: 0;max-width: 0;overflow: hidden;text-align: left;background-color: #f0f8ff;}#sk-container-id-29 div.sk-toggleable__content pre {margin: 0.2em;color: black;border-radius: 0.25em;background-color: #f0f8ff;}#sk-container-id-29 input.sk-toggleable__control:checked~div.sk-toggleable__content {max-height: 200px;max-width: 100%;overflow: auto;}#sk-container-id-29 input.sk-toggleable__control:checked~label.sk-toggleable__label-arrow:before {content: \"▾\";}#sk-container-id-29 div.sk-estimator input.sk-toggleable__control:checked~label.sk-toggleable__label {background-color: #d4ebff;}#sk-container-id-29 div.sk-label input.sk-toggleable__control:checked~label.sk-toggleable__label {background-color: #d4ebff;}#sk-container-id-29 input.sk-hidden--visually {border: 0;clip: rect(1px 1px 1px 1px);clip: rect(1px, 1px, 1px, 1px);height: 1px;margin: -1px;overflow: hidden;padding: 0;position: absolute;width: 1px;}#sk-container-id-29 div.sk-estimator {font-family: monospace;background-color: #f0f8ff;border: 1px dotted black;border-radius: 0.25em;box-sizing: border-box;margin-bottom: 0.5em;}#sk-container-id-29 div.sk-estimator:hover {background-color: #d4ebff;}#sk-container-id-29 div.sk-parallel-item::after {content: \"\";width: 100%;border-bottom: 1px solid gray;flex-grow: 1;}#sk-container-id-29 div.sk-label:hover label.sk-toggleable__label {background-color: #d4ebff;}#sk-container-id-29 div.sk-serial::before {content: \"\";position: absolute;border-left: 1px solid gray;box-sizing: border-box;top: 0;bottom: 0;left: 50%;z-index: 0;}#sk-container-id-29 div.sk-serial {display: flex;flex-direction: column;align-items: center;background-color: white;padding-right: 0.2em;padding-left: 0.2em;position: relative;}#sk-container-id-29 div.sk-item {position: relative;z-index: 1;}#sk-container-id-29 div.sk-parallel {display: flex;align-items: stretch;justify-content: center;background-color: white;position: relative;}#sk-container-id-29 div.sk-item::before, #sk-container-id-29 div.sk-parallel-item::before {content: \"\";position: absolute;border-left: 1px solid gray;box-sizing: border-box;top: 0;bottom: 0;left: 50%;z-index: -1;}#sk-container-id-29 div.sk-parallel-item {display: flex;flex-direction: column;z-index: 1;position: relative;background-color: white;}#sk-container-id-29 div.sk-parallel-item:first-child::after {align-self: flex-end;width: 50%;}#sk-container-id-29 div.sk-parallel-item:last-child::after {align-self: flex-start;width: 50%;}#sk-container-id-29 div.sk-parallel-item:only-child::after {width: 0;}#sk-container-id-29 div.sk-dashed-wrapped {border: 1px dashed gray;margin: 0 0.4em 0.5em 0.4em;box-sizing: border-box;padding-bottom: 0.4em;background-color: white;}#sk-container-id-29 div.sk-label label {font-family: monospace;font-weight: bold;display: inline-block;line-height: 1.2em;}#sk-container-id-29 div.sk-label-container {text-align: center;}#sk-container-id-29 div.sk-container {/* jupyter's `normalize.less` sets `[hidden] { display: none; }` but bootstrap.min.css set `[hidden] { display: none !important; }` so we also need the `!important` here to be able to override the default hidden behavior on the sphinx rendered scikit-learn.org. See: https://github.com/scikit-learn/scikit-learn/issues/21755 */display: inline-block !important;position: relative;}#sk-container-id-29 div.sk-text-repr-fallback {display: none;}</style><div id=\"sk-container-id-29\" class=\"sk-top-container\"><div class=\"sk-text-repr-fallback\"><pre>VotingClassifier(estimators=[(&#x27;RandomForest&#x27;,\n",
       "                              RandomForestClassifier(criterion=&#x27;entropy&#x27;,\n",
       "                                                     max_depth=5,\n",
       "                                                     max_features=15,\n",
       "                                                     random_state=11)),\n",
       "                             (&#x27;GradienBoosting&#x27;,\n",
       "                              GradientBoostingClassifier(learning_rate=1,\n",
       "                                                         max_depth=15,\n",
       "                                                         max_features=10,\n",
       "                                                         random_state=11)),\n",
       "                             (&#x27;ExtraTrees&#x27;,\n",
       "                              ExtraTreesClassifier(criterion=&#x27;entropy&#x27;,\n",
       "                                                   max_features=None,\n",
       "                                                   random_state=11)),\n",
       "                             (&#x27;Bagging&#x27;,\n",
       "                              BaggingClassifier(estimator=ExtraTreesClassifier(criterion=&#x27;entropy&#x27;,\n",
       "                                                                               max_features=None,\n",
       "                                                                               random_state=11),\n",
       "                                                random_state=11))])</pre><b>In a Jupyter environment, please rerun this cell to show the HTML representation or trust the notebook. <br />On GitHub, the HTML representation is unable to render, please try loading this page with nbviewer.org.</b></div><div class=\"sk-container\" hidden><div class=\"sk-item sk-dashed-wrapped\"><div class=\"sk-label-container\"><div class=\"sk-label sk-toggleable\"><input class=\"sk-toggleable__control sk-hidden--visually\" id=\"sk-estimator-id-92\" type=\"checkbox\" ><label for=\"sk-estimator-id-92\" class=\"sk-toggleable__label sk-toggleable__label-arrow\">VotingClassifier</label><div class=\"sk-toggleable__content\"><pre>VotingClassifier(estimators=[(&#x27;RandomForest&#x27;,\n",
       "                              RandomForestClassifier(criterion=&#x27;entropy&#x27;,\n",
       "                                                     max_depth=5,\n",
       "                                                     max_features=15,\n",
       "                                                     random_state=11)),\n",
       "                             (&#x27;GradienBoosting&#x27;,\n",
       "                              GradientBoostingClassifier(learning_rate=1,\n",
       "                                                         max_depth=15,\n",
       "                                                         max_features=10,\n",
       "                                                         random_state=11)),\n",
       "                             (&#x27;ExtraTrees&#x27;,\n",
       "                              ExtraTreesClassifier(criterion=&#x27;entropy&#x27;,\n",
       "                                                   max_features=None,\n",
       "                                                   random_state=11)),\n",
       "                             (&#x27;Bagging&#x27;,\n",
       "                              BaggingClassifier(estimator=ExtraTreesClassifier(criterion=&#x27;entropy&#x27;,\n",
       "                                                                               max_features=None,\n",
       "                                                                               random_state=11),\n",
       "                                                random_state=11))])</pre></div></div></div><div class=\"sk-parallel\"><div class=\"sk-parallel-item\"><div class=\"sk-item\"><div class=\"sk-label-container\"><div class=\"sk-label sk-toggleable\"><label>RandomForest</label></div></div><div class=\"sk-serial\"><div class=\"sk-item\"><div class=\"sk-estimator sk-toggleable\"><input class=\"sk-toggleable__control sk-hidden--visually\" id=\"sk-estimator-id-93\" type=\"checkbox\" ><label for=\"sk-estimator-id-93\" class=\"sk-toggleable__label sk-toggleable__label-arrow\">RandomForestClassifier</label><div class=\"sk-toggleable__content\"><pre>RandomForestClassifier(criterion=&#x27;entropy&#x27;, max_depth=5, max_features=15,\n",
       "                       random_state=11)</pre></div></div></div></div></div></div><div class=\"sk-parallel-item\"><div class=\"sk-item\"><div class=\"sk-label-container\"><div class=\"sk-label sk-toggleable\"><label>GradienBoosting</label></div></div><div class=\"sk-serial\"><div class=\"sk-item\"><div class=\"sk-estimator sk-toggleable\"><input class=\"sk-toggleable__control sk-hidden--visually\" id=\"sk-estimator-id-94\" type=\"checkbox\" ><label for=\"sk-estimator-id-94\" class=\"sk-toggleable__label sk-toggleable__label-arrow\">GradientBoostingClassifier</label><div class=\"sk-toggleable__content\"><pre>GradientBoostingClassifier(learning_rate=1, max_depth=15, max_features=10,\n",
       "                           random_state=11)</pre></div></div></div></div></div></div><div class=\"sk-parallel-item\"><div class=\"sk-item\"><div class=\"sk-label-container\"><div class=\"sk-label sk-toggleable\"><label>ExtraTrees</label></div></div><div class=\"sk-serial\"><div class=\"sk-item\"><div class=\"sk-estimator sk-toggleable\"><input class=\"sk-toggleable__control sk-hidden--visually\" id=\"sk-estimator-id-95\" type=\"checkbox\" ><label for=\"sk-estimator-id-95\" class=\"sk-toggleable__label sk-toggleable__label-arrow\">ExtraTreesClassifier</label><div class=\"sk-toggleable__content\"><pre>ExtraTreesClassifier(criterion=&#x27;entropy&#x27;, max_features=None, random_state=11)</pre></div></div></div></div></div></div><div class=\"sk-parallel-item\"><div class=\"sk-item\"><div class=\"sk-label-container\"><div class=\"sk-label sk-toggleable\"><label>Bagging</label></div></div><div class=\"sk-serial\"><div class=\"sk-item sk-dashed-wrapped\"><div class=\"sk-parallel\"><div class=\"sk-parallel-item\"><div class=\"sk-item\"><div class=\"sk-label-container\"><div class=\"sk-label sk-toggleable\"><input class=\"sk-toggleable__control sk-hidden--visually\" id=\"sk-estimator-id-96\" type=\"checkbox\" ><label for=\"sk-estimator-id-96\" class=\"sk-toggleable__label sk-toggleable__label-arrow\">estimator: ExtraTreesClassifier</label><div class=\"sk-toggleable__content\"><pre>ExtraTreesClassifier(criterion=&#x27;entropy&#x27;, max_features=None, random_state=11)</pre></div></div></div><div class=\"sk-serial\"><div class=\"sk-item\"><div class=\"sk-estimator sk-toggleable\"><input class=\"sk-toggleable__control sk-hidden--visually\" id=\"sk-estimator-id-97\" type=\"checkbox\" ><label for=\"sk-estimator-id-97\" class=\"sk-toggleable__label sk-toggleable__label-arrow\">ExtraTreesClassifier</label><div class=\"sk-toggleable__content\"><pre>ExtraTreesClassifier(criterion=&#x27;entropy&#x27;, max_features=None, random_state=11)</pre></div></div></div></div></div></div></div></div></div></div></div></div></div></div></div>"
      ],
      "text/plain": [
       "VotingClassifier(estimators=[('RandomForest',\n",
       "                              RandomForestClassifier(criterion='entropy',\n",
       "                                                     max_depth=5,\n",
       "                                                     max_features=15,\n",
       "                                                     random_state=11)),\n",
       "                             ('GradienBoosting',\n",
       "                              GradientBoostingClassifier(learning_rate=1,\n",
       "                                                         max_depth=15,\n",
       "                                                         max_features=10,\n",
       "                                                         random_state=11)),\n",
       "                             ('ExtraTrees',\n",
       "                              ExtraTreesClassifier(criterion='entropy',\n",
       "                                                   max_features=None,\n",
       "                                                   random_state=11)),\n",
       "                             ('Bagging',\n",
       "                              BaggingClassifier(estimator=ExtraTreesClassifier(criterion='entropy',\n",
       "                                                                               max_features=None,\n",
       "                                                                               random_state=11),\n",
       "                                                random_state=11))])"
      ]
     },
     "execution_count": 479,
     "metadata": {},
     "output_type": "execute_result"
    }
   ],
   "source": [
    "from sklearn.ensemble import VotingClassifier\n",
    "\n",
    "vote = VotingClassifier([('RandomForest', best_rf),\n",
    "                         ('GradienBoosting', best_gb),\n",
    "                         ('ExtraTrees', best_et),\n",
    "                         ('Bagging', best_bg)])\n",
    "\n",
    "vote.fit(prepared_x_train, y_train)"
   ]
  },
  {
   "attachments": {},
   "cell_type": "markdown",
   "id": "4d56b94f",
   "metadata": {},
   "source": [
    "# 6. Evaluation"
   ]
  },
  {
   "cell_type": "code",
   "execution_count": 485,
   "id": "e786b3fb",
   "metadata": {},
   "outputs": [
    {
     "name": "stdout",
     "output_type": "stream",
     "text": [
      "RandomForestClassifier :  0.888\n",
      "GradientBoostingClassifier :  0.879\n",
      "ExtraTreesClassifier :  0.909\n",
      "BaggingClassifier :  0.916\n",
      "VotingClassifier :  0.900\n"
     ]
    }
   ],
   "source": [
    "model_list = [best_rf, best_gb, best_et, best_bg, vote]\n",
    "\n",
    "for clf in model_list:\n",
    "    y_pred = clf.predict(prepared_x_test)\n",
    "    print(f\"{clf.__class__.__name__} :  {accuracy_score(y_test, y_pred):.3f}\")"
   ]
  },
  {
   "cell_type": "code",
   "execution_count": 486,
   "id": "0531aaf9",
   "metadata": {},
   "outputs": [
    {
     "name": "stdout",
     "output_type": "stream",
     "text": [
      "\n",
      "RandomForestClassifier\n",
      "\n",
      "              precision    recall  f1-score   support\n",
      "\n",
      "           0      0.894     0.966     0.929       324\n",
      "           1      0.859     0.644     0.736       104\n",
      "\n",
      "    accuracy                          0.888       428\n",
      "   macro avg      0.877     0.805     0.833       428\n",
      "weighted avg      0.886     0.888     0.882       428\n",
      "\n",
      "----------------------------------------------\n",
      "\n",
      "GradientBoostingClassifier\n",
      "\n",
      "              precision    recall  f1-score   support\n",
      "\n",
      "           0      0.898     0.948     0.922       324\n",
      "           1      0.802     0.663     0.726       104\n",
      "\n",
      "    accuracy                          0.879       428\n",
      "   macro avg      0.850     0.805     0.824       428\n",
      "weighted avg      0.874     0.879     0.874       428\n",
      "\n",
      "----------------------------------------------\n",
      "\n",
      "ExtraTreesClassifier\n",
      "\n",
      "              precision    recall  f1-score   support\n",
      "\n",
      "           0      0.923     0.960     0.941       324\n",
      "           1      0.857     0.750     0.800       104\n",
      "\n",
      "    accuracy                          0.909       428\n",
      "   macro avg      0.890     0.855     0.870       428\n",
      "weighted avg      0.907     0.909     0.907       428\n",
      "\n",
      "----------------------------------------------\n",
      "\n",
      "BaggingClassifier\n",
      "\n",
      "              precision    recall  f1-score   support\n",
      "\n",
      "           0      0.926     0.966     0.946       324\n",
      "           1      0.878     0.760     0.814       104\n",
      "\n",
      "    accuracy                          0.916       428\n",
      "   macro avg      0.902     0.863     0.880       428\n",
      "weighted avg      0.914     0.916     0.914       428\n",
      "\n",
      "----------------------------------------------\n",
      "\n",
      "VotingClassifier\n",
      "\n",
      "              precision    recall  f1-score   support\n",
      "\n",
      "           0      0.900     0.975     0.936       324\n",
      "           1      0.896     0.663     0.762       104\n",
      "\n",
      "    accuracy                          0.900       428\n",
      "   macro avg      0.898     0.819     0.849       428\n",
      "weighted avg      0.899     0.900     0.894       428\n",
      "\n",
      "----------------------------------------------\n"
     ]
    }
   ],
   "source": [
    "for clf in model_list:\n",
    "    y_pred = clf.predict(prepared_x_test)\n",
    "    clas_report = classification_report(y_test, y_pred, digits=3)\n",
    "    print(f\"\\n{clf.__class__.__name__}\\n\")\n",
    "    print(clas_report)\n",
    "    print('----------------------------------------------')"
   ]
  },
  {
   "cell_type": "code",
   "execution_count": 489,
   "id": "acd725e1",
   "metadata": {},
   "outputs": [
    {
     "data": {
      "image/png": "[encoded data removed]",
      "text/plain": [
       "<Figure size 1200x800 with 5 Axes>"
      ]
     },
     "metadata": {},
     "output_type": "display_data"
    }
   ],
   "source": [
    "matrix_plots = len(model_list)\n",
    "cols_per_row = 3\n",
    "rows = (matrix_plots - 1) // cols_per_row + 1\n",
    "\n",
    "fig, axes = plt.subplots(nrows=rows, ncols=cols_per_row, figsize=(12, 8))\n",
    "axes = axes.flatten()\n",
    "sns.set_style(\"white\")\n",
    "\n",
    "for i, clf in enumerate(model_list):\n",
    "    ax = axes[i]\n",
    "\n",
    "    y_pred = clf.predict(prepared_x_test)\n",
    "    matrix = confusion_matrix(y_test, y_pred)\n",
    "\n",
    "    sns.heatmap(matrix, annot=True, fmt=\"g\", cmap=\"Blues\", linewidths=0.1, cbar=False,\n",
    "                xticklabels=[\"not infected\", \"infected\"],\n",
    "                yticklabels=[\"not infected\", \"infected\"], ax=ax)\n",
    "    \n",
    "    ax.set_xlabel('Actual')\n",
    "    ax.set_ylabel('Predicted')\n",
    "    ax.set_title(clf.__class__.__name__)\n",
    "\n",
    "for i in range(matrix_plots, len(axes)):\n",
    "    fig.delaxes(axes[i])\n",
    "    \n",
    "plt.tight_layout()\n",
    "plt.show()"
   ]
  }
 ],
 "metadata": {
  "kernelspec": {
   "display_name": "Python 3 (ipykernel)",
   "language": "python",
   "name": "python3"
  },
  "language_info": {
   "codemirror_mode": {
    "name": "ipython",
    "version": 3
   },
   "file_extension": ".py",
   "mimetype": "text/x-python",
   "name": "python",
   "nbconvert_exporter": "python",
   "pygments_lexer": "ipython3",
   "version": "3.10.9"
  }
 },
 "nbformat": 4,
 "nbformat_minor": 5
}
